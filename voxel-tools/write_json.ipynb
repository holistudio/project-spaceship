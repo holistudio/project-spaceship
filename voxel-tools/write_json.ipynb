{
 "cells": [
  {
   "cell_type": "code",
   "execution_count": 1,
   "metadata": {},
   "outputs": [],
   "source": [
    "import numpy as np\n",
    "from binvox_rw_py import binvox_rw\n",
    "import os\n",
    "import glob\n",
    "import json"
   ]
  },
  {
   "cell_type": "code",
   "execution_count": 2,
   "metadata": {},
   "outputs": [],
   "source": [
    "filepath = '../../datasets/shapenet/02843684/1b73f96cf598ef492cba66dc6aeabcd4/models/model_normalized.surface.binvox'"
   ]
  },
  {
   "cell_type": "code",
   "execution_count": 3,
   "metadata": {},
   "outputs": [],
   "source": [
    "with open(filepath, 'rb') as f:\n",
    "    model = binvox_rw.read_as_3d_array(f) # Voxels object"
   ]
  },
  {
   "cell_type": "code",
   "execution_count": 4,
   "metadata": {},
   "outputs": [],
   "source": [
    "design_dict = {\n",
    "    \"ID\": 0,\n",
    "    \"lastModified\": \"2024-01-05 20:25:55\",\n",
    "    \"lastAuthor\": \"user\",\n",
    "    \"objectList\": []\n",
    "}"
   ]
  },
  {
   "cell_type": "code",
   "execution_count": 5,
   "metadata": {},
   "outputs": [],
   "source": [
    "cube = {\n",
    "    \"type\": '1x1',\n",
    "    \"position\": {\n",
    "        \"x\": 0,\n",
    "        \"y\": 0,\n",
    "        \"z\": 0\n",
    "    },\n",
    "    \"orientation\": 0\n",
    "}"
   ]
  },
  {
   "cell_type": "code",
   "execution_count": 6,
   "metadata": {},
   "outputs": [
    {
     "name": "stdout",
     "output_type": "stream",
     "text": [
      "\"{\\\"type\\\":\\\"1x1\\\",\\\"position\\\":{\\\"x\\\":0,\\\"y\\\":0,\\\"z\\\":0},\\\"orientation\\\":0}\"\n"
     ]
    }
   ],
   "source": [
    "# Convert the dictionary to a string in the specified format\n",
    "result_string = json.dumps(cube, separators=(',', ':'))\n",
    "\n",
    "# Add backslashes to escape double quotes\n",
    "result_string_with_backslashes = result_string.replace('\"', r'\\\"')\n",
    "\n",
    "# Add double quotes around the string\n",
    "final_result = f'\"{result_string_with_backslashes}\"'\n",
    "\n",
    "# Print the result\n",
    "print(final_result)"
   ]
  },
  {
   "cell_type": "code",
   "execution_count": 7,
   "metadata": {},
   "outputs": [],
   "source": [
    "max_x, max_y, max_z = model.data.shape"
   ]
  },
  {
   "cell_type": "code",
   "execution_count": 8,
   "metadata": {},
   "outputs": [
    {
     "data": {
      "text/plain": [
       "0"
      ]
     },
     "execution_count": 8,
     "metadata": {},
     "output_type": "execute_result"
    }
   ],
   "source": [
    "len(design_dict[\"objectList\"])"
   ]
  },
  {
   "cell_type": "code",
   "execution_count": 9,
   "metadata": {},
   "outputs": [
    {
     "data": {
      "text/plain": [
       "80086"
      ]
     },
     "execution_count": 9,
     "metadata": {},
     "output_type": "execute_result"
    }
   ],
   "source": [
    "for x in range(max_x):\n",
    "    for y in range(max_y):\n",
    "        for z in range(max_z):\n",
    "            if(model.data[x,y,z]):\n",
    "                cube[\"position\"][\"x\"] = x\n",
    "                cube[\"position\"][\"y\"] = y\n",
    "                cube[\"position\"][\"z\"] = z\n",
    "\n",
    "                # Convert the dictionary to a string in the specified format\n",
    "                result_string = json.dumps(cube, separators=(',', ':'))\n",
    "\n",
    "                # Add backslashes to escape double quotes\n",
    "                # result_string_with_backslashes = result_string.replace('\"', r'\\\"')\n",
    "\n",
    "                # Add double quotes around the string\n",
    "                # final_result = f'\"{result_string_with_backslashes}\"'\n",
    "                design_dict[\"objectList\"].append(result_string)\n",
    "\n",
    "len(design_dict[\"objectList\"])"
   ]
  },
  {
   "cell_type": "code",
   "execution_count": 10,
   "metadata": {},
   "outputs": [
    {
     "data": {
      "text/plain": [
       "'{\"type\":\"1x1\",\"position\":{\"x\":0,\"y\":0,\"z\":67},\"orientation\":0}'"
      ]
     },
     "execution_count": 10,
     "metadata": {},
     "output_type": "execute_result"
    }
   ],
   "source": [
    "design_dict[\"objectList\"][1]"
   ]
  },
  {
   "cell_type": "code",
   "execution_count": 11,
   "metadata": {},
   "outputs": [],
   "source": [
    "# Specify the file path\n",
    "file_path = \"design_shapenet_surface.json\"\n",
    "\n",
    "# Write the dictionary to the JSON file\n",
    "with open(file_path, 'w') as json_file:\n",
    "    json.dump(design_dict, json_file)"
   ]
  },
  {
   "cell_type": "code",
   "execution_count": 12,
   "metadata": {},
   "outputs": [],
   "source": [
    "\n",
    "design_dict = {\n",
    "    \"ID\": 0,\n",
    "    \"lastModified\": \"2024-01-05 20:25:55\",\n",
    "    \"lastAuthor\": \"user\",\n",
    "    \"objectList\": []\n",
    "}\n",
    "\n",
    "scale_down_factor = 2\n",
    "\n",
    "s = scale_down_factor\n",
    "\n",
    "x = 0\n",
    "vx = 0\n",
    "while (x<max_x):\n",
    "    y = 0\n",
    "    vy = 0\n",
    "    while (y<max_y):\n",
    "        z = 0\n",
    "        vz = 0\n",
    "        while (z<max_z):\n",
    "            boolean_list = model.data[x:x+s,y:y+s,z:z+s].ravel().tolist()\n",
    "            count_true = sum(boolean_list)\n",
    "            if(count_true >= 3):\n",
    "                cube[\"position\"][\"x\"] = vx\n",
    "                cube[\"position\"][\"y\"] = vy\n",
    "                cube[\"position\"][\"z\"] = vz\n",
    "\n",
    "                # Convert the dictionary to a string in the specified format\n",
    "                result_string = json.dumps(cube, separators=(',', ':'))\n",
    "\n",
    "                # Add cube to objectList\n",
    "                design_dict[\"objectList\"].append(result_string)\n",
    "            z += scale_down_factor\n",
    "            vz +=1\n",
    "        y += scale_down_factor\n",
    "        vy += 1\n",
    "    x += scale_down_factor\n",
    "    vx += 1"
   ]
  },
  {
   "cell_type": "code",
   "execution_count": 13,
   "metadata": {},
   "outputs": [],
   "source": [
    "# Specify the file path\n",
    "file_path = \"design_shapenet_surface_downscale.json\"\n",
    "\n",
    "# Write the dictionary to the JSON file\n",
    "with open(file_path, 'w') as json_file:\n",
    "    json.dump(design_dict, json_file)"
   ]
  },
  {
   "cell_type": "code",
   "execution_count": null,
   "metadata": {},
   "outputs": [],
   "source": []
  }
 ],
 "metadata": {
  "kernelspec": {
   "display_name": "SPACESHIP",
   "language": "python",
   "name": "python3"
  },
  "language_info": {
   "codemirror_mode": {
    "name": "ipython",
    "version": 3
   },
   "file_extension": ".py",
   "mimetype": "text/x-python",
   "name": "python",
   "nbconvert_exporter": "python",
   "pygments_lexer": "ipython3",
   "version": "3.11.7"
  }
 },
 "nbformat": 4,
 "nbformat_minor": 2
}
