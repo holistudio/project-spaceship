{
 "cells": [
  {
   "cell_type": "markdown",
   "metadata": {},
   "source": [
    "# Learning about Convolutions\n",
    "\n",
    "Learning about convolutions step-by-step."
   ]
  },
  {
   "cell_type": "code",
   "execution_count": 1,
   "metadata": {},
   "outputs": [],
   "source": [
    "import torch\n",
    "import torch.nn as nn"
   ]
  },
  {
   "cell_type": "code",
   "execution_count": 2,
   "metadata": {},
   "outputs": [],
   "source": [
    "device = torch.device('cuda:0' if torch.cuda.is_available() else 'cpu')"
   ]
  },
  {
   "cell_type": "code",
   "execution_count": 3,
   "metadata": {},
   "outputs": [
    {
     "data": {
      "text/plain": [
       "device(type='cuda', index=0)"
      ]
     },
     "execution_count": 3,
     "metadata": {},
     "output_type": "execute_result"
    }
   ],
   "source": [
    "device"
   ]
  },
  {
   "cell_type": "markdown",
   "metadata": {},
   "source": [
    "## 1D Convolutions\n",
    "\n",
    "Lets start with a 3x4 tensor"
   ]
  },
  {
   "cell_type": "code",
   "execution_count": 4,
   "metadata": {},
   "outputs": [],
   "source": [
    "x = torch.tensor([[1., -2., 3., -4.],\n",
    "                  [1., -2., 3., -4.],\n",
    "                  [1., -2., 3., -4.]])"
   ]
  },
  {
   "cell_type": "code",
   "execution_count": 5,
   "metadata": {},
   "outputs": [
    {
     "data": {
      "text/plain": [
       "torch.Size([3, 4])"
      ]
     },
     "execution_count": 5,
     "metadata": {},
     "output_type": "execute_result"
    }
   ],
   "source": [
    "x.shape"
   ]
  },
  {
   "cell_type": "markdown",
   "metadata": {},
   "source": [
    "For `Conv1d()`, `in_channels` has to equal 3 since we have 3 rows"
   ]
  },
  {
   "cell_type": "code",
   "execution_count": 6,
   "metadata": {},
   "outputs": [
    {
     "data": {
      "text/plain": [
       "tensor([[-1.2208,  3.2020, -4.1693,  6.1506],\n",
       "        [-0.2051,  1.1085, -1.0807,  1.9842],\n",
       "        [-0.3237,  1.9432, -1.8349,  3.4544]], grad_fn=<SqueezeBackward1>)"
      ]
     },
     "execution_count": 6,
     "metadata": {},
     "output_type": "execute_result"
    }
   ],
   "source": [
    "conv = torch.nn.Conv1d(in_channels = 3, out_channels = 3, kernel_size = 1)\n",
    "conv(x)"
   ]
  },
  {
   "cell_type": "markdown",
   "metadata": {},
   "source": [
    "If we change the `out_channels` we control the number of rows of the output tensor"
   ]
  },
  {
   "cell_type": "code",
   "execution_count": 7,
   "metadata": {},
   "outputs": [
    {
     "data": {
      "text/plain": [
       "tensor([[-0.3867,  1.2341, -1.4672,  2.3147]], grad_fn=<SqueezeBackward1>)"
      ]
     },
     "execution_count": 7,
     "metadata": {},
     "output_type": "execute_result"
    }
   ],
   "source": [
    "conv = torch.nn.Conv1d(in_channels = 3, out_channels = 1, kernel_size = 1)\n",
    "conv(x)"
   ]
  },
  {
   "cell_type": "markdown",
   "metadata": {},
   "source": [
    "Now let's change the input tensor just a little bit at `x[1,0]`"
   ]
  },
  {
   "cell_type": "code",
   "execution_count": 8,
   "metadata": {},
   "outputs": [],
   "source": [
    "x = torch.tensor([[1., -2., 3., -4.],\n",
    "                  [5., -2., 3., -4.],\n",
    "                  [1., -2., 3., -4.]])"
   ]
  },
  {
   "cell_type": "markdown",
   "metadata": {},
   "source": [
    "Now run the same `Conv1d()` over this tensor. \n",
    "\n",
    "(Note that we have not re-initialized the Conv1d function so it is the same Conv1d instance as above.)"
   ]
  },
  {
   "cell_type": "code",
   "execution_count": 9,
   "metadata": {},
   "outputs": [
    {
     "data": {
      "text/plain": [
       "tensor([[-0.6989,  1.2341, -1.4672,  2.3147]], grad_fn=<SqueezeBackward1>)"
      ]
     },
     "execution_count": 9,
     "metadata": {},
     "output_type": "execute_result"
    }
   ],
   "source": [
    "conv(x)"
   ]
  },
  {
   "cell_type": "markdown",
   "metadata": {},
   "source": [
    "Notice that only the first item of the output tensor has changed. So Conv1d processes the tensor \"column-by-column\" with an expectation of how many rows/dimensions are in each column based on value set to `in_channels`.\n"
   ]
  },
  {
   "cell_type": "markdown",
   "metadata": {},
   "source": [
    "### Kernel Size Changed\n",
    "\n",
    "But now let's run everything again with a different kernel size."
   ]
  },
  {
   "cell_type": "code",
   "execution_count": 10,
   "metadata": {},
   "outputs": [],
   "source": [
    "x = torch.tensor([[1., -2., 3., -4.],\n",
    "                  [1., -2., 3., -4.],\n",
    "                  [1., -2., 3., -4.]])"
   ]
  },
  {
   "cell_type": "code",
   "execution_count": 11,
   "metadata": {},
   "outputs": [
    {
     "data": {
      "text/plain": [
       "tensor([[ 1.4349, -1.6519,  3.0375]], grad_fn=<SqueezeBackward1>)"
      ]
     },
     "execution_count": 11,
     "metadata": {},
     "output_type": "execute_result"
    }
   ],
   "source": [
    "conv = torch.nn.Conv1d(in_channels = 3, out_channels = 1, kernel_size = 2)\n",
    "conv(x)"
   ]
  },
  {
   "cell_type": "markdown",
   "metadata": {},
   "source": [
    "Note the size/shape of the output has changed from (1,4) to (1,3).\n",
    "\n",
    " 1. The first item of the output is processed from the first and second columns of x\n",
    " 2. Second item processed from second and third.\n",
    " 3. Third item processed from third and fourth.\n",
    "\n",
    "This is because the default `stride` value of `Conv1d()` is set equal to 1. `kernel_size` determines the size of the window that passes over the tensor. `stride` controls how the window passes over."
   ]
  },
  {
   "cell_type": "code",
   "execution_count": 12,
   "metadata": {},
   "outputs": [],
   "source": [
    "x = torch.tensor([[1., -2., 3., -4.],\n",
    "                  [5., -2., 3., -4.],\n",
    "                  [1., -2., 3., -4.]])"
   ]
  },
  {
   "cell_type": "code",
   "execution_count": 13,
   "metadata": {},
   "outputs": [
    {
     "data": {
      "text/plain": [
       "tensor([[ 2.1374, -1.6519,  3.0375]], grad_fn=<SqueezeBackward1>)"
      ]
     },
     "execution_count": 13,
     "metadata": {},
     "output_type": "execute_result"
    }
   ],
   "source": [
    "conv(x)"
   ]
  },
  {
   "cell_type": "markdown",
   "metadata": {},
   "source": [
    "Again only the first value has changed. But now let's change numbers in the second column of x"
   ]
  },
  {
   "cell_type": "code",
   "execution_count": 14,
   "metadata": {},
   "outputs": [],
   "source": [
    "x = torch.tensor([[1., -2., 3., -4.],\n",
    "                  [1., 2.5, 3., -4.],\n",
    "                  [1., -2., 3., -4.]])"
   ]
  },
  {
   "cell_type": "code",
   "execution_count": 15,
   "metadata": {},
   "outputs": [
    {
     "data": {
      "text/plain": [
       "tensor([[ 0.8089, -0.8616,  3.0375]], grad_fn=<SqueezeBackward1>)"
      ]
     },
     "execution_count": 15,
     "metadata": {},
     "output_type": "execute_result"
    }
   ],
   "source": [
    "conv(x)"
   ]
  },
  {
   "cell_type": "markdown",
   "metadata": {},
   "source": [
    "Now the first and second values are different. Since both the first and second values are dependent on values in the second column of x (i.e., the kernel for the first and second outputs both include the second column) this makes sense."
   ]
  },
  {
   "cell_type": "markdown",
   "metadata": {},
   "source": [
    "### Stride Changed"
   ]
  },
  {
   "cell_type": "code",
   "execution_count": 16,
   "metadata": {},
   "outputs": [],
   "source": [
    "x = torch.tensor([[1., -2., 3., -4.],\n",
    "                  [1., -2., 3., -4.],\n",
    "                  [1., -2., 3., -4.]])"
   ]
  },
  {
   "cell_type": "code",
   "execution_count": 17,
   "metadata": {},
   "outputs": [
    {
     "data": {
      "text/plain": [
       "tensor([[-1.2416, -2.6543]], grad_fn=<SqueezeBackward1>)"
      ]
     },
     "execution_count": 17,
     "metadata": {},
     "output_type": "execute_result"
    }
   ],
   "source": [
    "conv = torch.nn.Conv1d(in_channels = 3, out_channels = 1, kernel_size = 2, stride =2)\n",
    "conv(x)"
   ]
  },
  {
   "cell_type": "markdown",
   "metadata": {},
   "source": [
    "Notice that changing stride affects the size of the output."
   ]
  },
  {
   "cell_type": "code",
   "execution_count": 18,
   "metadata": {},
   "outputs": [],
   "source": [
    "x = torch.tensor([[1., -2., 3., -4.],\n",
    "                  [1., 2.5, 3., -4.],\n",
    "                  [1., -2., 3., -4.]])"
   ]
  },
  {
   "cell_type": "code",
   "execution_count": 19,
   "metadata": {},
   "outputs": [
    {
     "data": {
      "text/plain": [
       "tensor([[ 0.3102, -2.6543]], grad_fn=<SqueezeBackward1>)"
      ]
     },
     "execution_count": 19,
     "metadata": {},
     "output_type": "execute_result"
    }
   ],
   "source": [
    "conv(x)"
   ]
  },
  {
   "cell_type": "markdown",
   "metadata": {},
   "source": [
    "Now the first output value depends on x's first and second columns' values, and second output depends on x's third and fourth columns' values. So changing the second column's values only affects the first output value."
   ]
  },
  {
   "cell_type": "markdown",
   "metadata": {},
   "source": [
    "## 2D Convolutions\n",
    "\n",
    "So wait a minute...a 1D convolution can still \"handle\" a 2-dimensional input or even higher. The \"1D\" in 1D convolutions doesn't refer to the the 1D size of the input, but the 1D size of the kernel.\n",
    "\n",
    "Let's try everything again with `Conv2d`"
   ]
  },
  {
   "cell_type": "code",
   "execution_count": 20,
   "metadata": {},
   "outputs": [],
   "source": [
    "# Notice the tensor is now 3D instead of 2D.\n",
    "x = torch.tensor([[[1., -2., 3., -4.],\n",
    "                  [1., -2., 3., -4.],\n",
    "                  [1., -2., 3., -4.]]])"
   ]
  },
  {
   "cell_type": "code",
   "execution_count": 21,
   "metadata": {},
   "outputs": [
    {
     "data": {
      "text/plain": [
       "torch.Size([1, 3, 4])"
      ]
     },
     "execution_count": 21,
     "metadata": {},
     "output_type": "execute_result"
    }
   ],
   "source": [
    "x.shape"
   ]
  },
  {
   "cell_type": "code",
   "execution_count": 22,
   "metadata": {},
   "outputs": [],
   "source": [
    "# NOTE: this won't work! in_channels has to equal 1, the first dimension of torch.Size. Think of this as a grayscale image. in_channels = 3 for RGB images. \n",
    "# conv = torch.nn.Conv2d(in_channels = 3, out_channels = 1, kernel_size = 2)"
   ]
  },
  {
   "cell_type": "code",
   "execution_count": 23,
   "metadata": {},
   "outputs": [],
   "source": [
    "conv = torch.nn.Conv2d(in_channels = 1, out_channels = 1, kernel_size = 2)"
   ]
  },
  {
   "cell_type": "code",
   "execution_count": 24,
   "metadata": {},
   "outputs": [
    {
     "data": {
      "text/plain": [
       "tensor([[[0.4745, 0.1738, 0.6863],\n",
       "         [0.4745, 0.1738, 0.6863]]], grad_fn=<SqueezeBackward1>)"
      ]
     },
     "execution_count": 24,
     "metadata": {},
     "output_type": "execute_result"
    }
   ],
   "source": [
    "conv(x)"
   ]
  },
  {
   "cell_type": "code",
   "execution_count": 25,
   "metadata": {},
   "outputs": [
    {
     "data": {
      "text/plain": [
       "torch.Size([1, 2, 3])"
      ]
     },
     "execution_count": 25,
     "metadata": {},
     "output_type": "execute_result"
    }
   ],
   "source": [
    "conv(x).shape"
   ]
  },
  {
   "cell_type": "markdown",
   "metadata": {},
   "source": [
    "Now let's change `out_channels`"
   ]
  },
  {
   "cell_type": "code",
   "execution_count": 26,
   "metadata": {},
   "outputs": [],
   "source": [
    "conv = torch.nn.Conv2d(in_channels = 1, out_channels = 2, kernel_size = 2)"
   ]
  },
  {
   "cell_type": "code",
   "execution_count": 27,
   "metadata": {},
   "outputs": [
    {
     "data": {
      "text/plain": [
       "tensor([[[-1.2848,  1.1525, -2.1176],\n",
       "         [-1.2848,  1.1525, -2.1176]],\n",
       "\n",
       "        [[ 0.5484, -1.5114,  1.2023],\n",
       "         [ 0.5484, -1.5114,  1.2023]]], grad_fn=<SqueezeBackward1>)"
      ]
     },
     "execution_count": 27,
     "metadata": {},
     "output_type": "execute_result"
    }
   ],
   "source": [
    "conv(x)"
   ]
  },
  {
   "cell_type": "markdown",
   "metadata": {},
   "source": [
    "### Kernel Size Change"
   ]
  },
  {
   "cell_type": "code",
   "execution_count": 28,
   "metadata": {},
   "outputs": [],
   "source": [
    "conv = torch.nn.Conv2d(in_channels = 1, out_channels = 1, kernel_size = (2,3))"
   ]
  },
  {
   "cell_type": "code",
   "execution_count": 29,
   "metadata": {},
   "outputs": [
    {
     "data": {
      "text/plain": [
       "tensor([[[-0.2927, -0.1780],\n",
       "         [-0.2927, -0.1780]]], grad_fn=<SqueezeBackward1>)"
      ]
     },
     "execution_count": 29,
     "metadata": {},
     "output_type": "execute_result"
    }
   ],
   "source": [
    "conv(x)"
   ]
  },
  {
   "cell_type": "code",
   "execution_count": 30,
   "metadata": {},
   "outputs": [],
   "source": [
    "conv = torch.nn.Conv2d(in_channels = 1, out_channels = 1, kernel_size = (3,3))"
   ]
  },
  {
   "cell_type": "code",
   "execution_count": 31,
   "metadata": {},
   "outputs": [
    {
     "data": {
      "text/plain": [
       "tensor([[[-2.8365,  3.3714]]], grad_fn=<SqueezeBackward1>)"
      ]
     },
     "execution_count": 31,
     "metadata": {},
     "output_type": "execute_result"
    }
   ],
   "source": [
    "conv(x)"
   ]
  },
  {
   "cell_type": "markdown",
   "metadata": {},
   "source": [
    "At the risk of confusing things, you can say that a Conv1D for a 2D tensor of size (R,C) with `kernel_size` = X is the same as a Conv2D where `kernel_size` = (R,X) for a 3D tensor of size (1, R, C) for any value of X"
   ]
  },
  {
   "cell_type": "markdown",
   "metadata": {},
   "source": [
    "### Stride Changed"
   ]
  },
  {
   "cell_type": "code",
   "execution_count": 32,
   "metadata": {},
   "outputs": [],
   "source": [
    "conv = torch.nn.Conv2d(in_channels = 1, out_channels = 1, kernel_size = (3,3), stride=2)"
   ]
  },
  {
   "cell_type": "code",
   "execution_count": 33,
   "metadata": {},
   "outputs": [
    {
     "data": {
      "text/plain": [
       "tensor([[[-0.3545]]], grad_fn=<SqueezeBackward1>)"
      ]
     },
     "execution_count": 33,
     "metadata": {},
     "output_type": "execute_result"
    }
   ],
   "source": [
    "conv(x)"
   ]
  },
  {
   "cell_type": "markdown",
   "metadata": {},
   "source": [
    "Notice that when the kernel \"window goes outside the tensor\" it doesn't break, but just doesn't return any values"
   ]
  },
  {
   "cell_type": "code",
   "execution_count": 34,
   "metadata": {},
   "outputs": [],
   "source": [
    "# Notice the tensor is now 3D instead of 2D.\n",
    "x = torch.tensor([[[1., -2., 3.],\n",
    "                  [1., -2., 3.],\n",
    "                  [1., -2., 3.]]])"
   ]
  },
  {
   "cell_type": "code",
   "execution_count": 35,
   "metadata": {},
   "outputs": [
    {
     "data": {
      "text/plain": [
       "tensor([[[-0.3545]]], grad_fn=<SqueezeBackward1>)"
      ]
     },
     "execution_count": 35,
     "metadata": {},
     "output_type": "execute_result"
    }
   ],
   "source": [
    "conv(x)"
   ]
  },
  {
   "cell_type": "markdown",
   "metadata": {},
   "source": [
    "Given the (3,3) kernel, this means that the fourth column's values essentially don't matter to the output of the 2D convolution"
   ]
  },
  {
   "cell_type": "markdown",
   "metadata": {},
   "source": [
    "### Padding Changed\n",
    "\n",
    "Start with original tensor and a (3,3) kernel convolution"
   ]
  },
  {
   "cell_type": "code",
   "execution_count": 36,
   "metadata": {},
   "outputs": [],
   "source": [
    "# Notice the tensor is now 3D instead of 2D.\n",
    "x = torch.tensor([[[1., -2., 3., -4.],\n",
    "                  [1., -2., 3., -4.],\n",
    "                  [1., -2., 3., -4.]]])"
   ]
  },
  {
   "cell_type": "code",
   "execution_count": 37,
   "metadata": {},
   "outputs": [],
   "source": [
    "conv = torch.nn.Conv2d(in_channels = 1, out_channels = 1, kernel_size = 3)"
   ]
  },
  {
   "cell_type": "code",
   "execution_count": 38,
   "metadata": {},
   "outputs": [
    {
     "data": {
      "text/plain": [
       "tensor([[[-1.4029,  2.0937]]], grad_fn=<SqueezeBackward1>)"
      ]
     },
     "execution_count": 38,
     "metadata": {},
     "output_type": "execute_result"
    }
   ],
   "source": [
    "conv(x)"
   ]
  },
  {
   "cell_type": "markdown",
   "metadata": {},
   "source": [
    "Change padding from 0 to 1. This adds 1 extra cell on the \"border\" of the tensor. Each cell is filled with value of 0 (`padding_mode='zeros'`)"
   ]
  },
  {
   "cell_type": "code",
   "execution_count": 39,
   "metadata": {},
   "outputs": [],
   "source": [
    "conv = torch.nn.Conv2d(in_channels = 1, out_channels = 1, kernel_size = 3, padding=1)"
   ]
  },
  {
   "cell_type": "code",
   "execution_count": 40,
   "metadata": {},
   "outputs": [
    {
     "data": {
      "text/plain": [
       "tensor([[[-0.3422, -0.1828, -0.3376, -0.8155],\n",
       "         [-0.0103, -0.6718,  0.3085, -1.3115],\n",
       "         [ 0.2523, -1.0040,  0.7104, -0.6226]]], grad_fn=<SqueezeBackward1>)"
      ]
     },
     "execution_count": 40,
     "metadata": {},
     "output_type": "execute_result"
    }
   ],
   "source": [
    "conv(x)"
   ]
  },
  {
   "cell_type": "markdown",
   "metadata": {},
   "source": [
    "### Dilation\n",
    "\n",
    "Start with original tensor and a (2,2) kernel convolution\n",
    "\n",
    "NOTE: Default `dilation=1` not 0!!!!"
   ]
  },
  {
   "cell_type": "code",
   "execution_count": 41,
   "metadata": {},
   "outputs": [],
   "source": [
    "conv = torch.nn.Conv2d(in_channels = 1, out_channels = 1, kernel_size = 2)"
   ]
  },
  {
   "cell_type": "code",
   "execution_count": 42,
   "metadata": {},
   "outputs": [
    {
     "data": {
      "text/plain": [
       "tensor([[[-0.3002,  0.6701, -0.7477],\n",
       "         [-0.3002,  0.6701, -0.7477]]], grad_fn=<SqueezeBackward1>)"
      ]
     },
     "execution_count": 42,
     "metadata": {},
     "output_type": "execute_result"
    }
   ],
   "source": [
    "conv(x)"
   ]
  },
  {
   "cell_type": "code",
   "execution_count": 43,
   "metadata": {},
   "outputs": [],
   "source": [
    "conv = torch.nn.Conv2d(in_channels = 1, out_channels = 1, kernel_size = 2, dilation=2)"
   ]
  },
  {
   "cell_type": "code",
   "execution_count": 44,
   "metadata": {},
   "outputs": [
    {
     "data": {
      "text/plain": [
       "tensor([[[0.6097, 0.4791]]], grad_fn=<SqueezeBackward1>)"
      ]
     },
     "execution_count": 44,
     "metadata": {},
     "output_type": "execute_result"
    }
   ],
   "source": [
    "conv(x)"
   ]
  },
  {
   "cell_type": "markdown",
   "metadata": {},
   "source": [
    "See \"Dilated convolution animations\" in https://github.com/vdumoulin/conv_arithmetic/blob/master/README.md for visualization of dilations"
   ]
  },
  {
   "cell_type": "markdown",
   "metadata": {},
   "source": [
    "## Conv3D"
   ]
  },
  {
   "cell_type": "code",
   "execution_count": 61,
   "metadata": {},
   "outputs": [
    {
     "data": {
      "text/plain": [
       "tensor([[[[9.7462e-01, 6.8925e-01, 1.9459e-01,  ..., 3.4456e-01,\n",
       "           2.7675e-01, 1.5181e-01],\n",
       "          [3.7647e-01, 1.1397e-01, 7.8948e-01,  ..., 9.0990e-01,\n",
       "           8.4903e-01, 3.7861e-01],\n",
       "          [8.3438e-02, 9.6676e-01, 3.5842e-01,  ..., 2.4440e-01,\n",
       "           6.3722e-01, 6.2185e-01],\n",
       "          ...,\n",
       "          [7.1625e-01, 5.1116e-03, 7.3384e-02,  ..., 7.7449e-02,\n",
       "           4.3133e-01, 9.4047e-01],\n",
       "          [7.5294e-01, 4.8695e-01, 9.0065e-01,  ..., 9.4242e-02,\n",
       "           2.7371e-01, 5.0946e-01],\n",
       "          [5.3643e-01, 4.9829e-01, 2.0844e-01,  ..., 8.9906e-01,\n",
       "           5.6480e-02, 8.0783e-01]],\n",
       "\n",
       "         [[8.1283e-01, 9.8247e-01, 3.1961e-01,  ..., 4.8675e-01,\n",
       "           1.4723e-02, 5.7070e-01],\n",
       "          [2.7571e-01, 1.4831e-01, 6.3304e-02,  ..., 1.7092e-01,\n",
       "           4.2705e-01, 4.2054e-01],\n",
       "          [7.5930e-01, 2.9787e-01, 7.0632e-01,  ..., 3.6400e-01,\n",
       "           2.8239e-01, 4.8157e-01],\n",
       "          ...,\n",
       "          [6.1940e-01, 8.7853e-01, 9.4755e-03,  ..., 6.0697e-01,\n",
       "           3.1207e-01, 9.9004e-01],\n",
       "          [4.0393e-02, 7.8686e-02, 2.4745e-02,  ..., 4.4872e-01,\n",
       "           7.3221e-01, 3.2305e-01],\n",
       "          [1.6072e-01, 1.9377e-01, 9.0755e-01,  ..., 9.6056e-01,\n",
       "           7.7815e-01, 9.5076e-01]],\n",
       "\n",
       "         [[1.8612e-01, 3.1624e-01, 5.5480e-01,  ..., 1.8193e-01,\n",
       "           7.9734e-01, 6.8537e-01],\n",
       "          [4.6406e-01, 6.9158e-01, 7.6536e-01,  ..., 6.7965e-01,\n",
       "           1.0335e-03, 4.2666e-01],\n",
       "          [1.6263e-01, 3.7260e-01, 6.7618e-01,  ..., 2.1644e-01,\n",
       "           4.6011e-01, 9.7455e-01],\n",
       "          ...,\n",
       "          [1.9449e-01, 2.9523e-01, 1.4597e-02,  ..., 7.8750e-01,\n",
       "           1.8412e-01, 3.3235e-01],\n",
       "          [1.0934e-01, 2.4634e-01, 8.7515e-02,  ..., 3.7496e-01,\n",
       "           4.8149e-01, 3.9281e-01],\n",
       "          [9.6878e-01, 6.0082e-01, 5.5278e-01,  ..., 1.9275e-01,\n",
       "           6.5228e-01, 3.1932e-01]],\n",
       "\n",
       "         ...,\n",
       "\n",
       "         [[2.1766e-02, 4.7225e-01, 3.6578e-01,  ..., 2.1652e-01,\n",
       "           2.1117e-01, 2.4888e-02],\n",
       "          [2.7161e-01, 2.6642e-01, 1.2139e-01,  ..., 4.1933e-01,\n",
       "           3.5734e-01, 2.8714e-01],\n",
       "          [7.8990e-01, 6.8096e-01, 8.9791e-01,  ..., 8.3058e-01,\n",
       "           5.2902e-01, 1.9577e-01],\n",
       "          ...,\n",
       "          [9.1185e-01, 2.0233e-01, 7.8838e-01,  ..., 6.6745e-01,\n",
       "           9.9449e-01, 4.8505e-01],\n",
       "          [5.3528e-01, 3.9059e-01, 6.4411e-01,  ..., 9.0982e-01,\n",
       "           1.0287e-01, 9.4499e-01],\n",
       "          [5.3614e-01, 1.0304e-01, 9.2051e-01,  ..., 5.2253e-01,\n",
       "           3.9415e-01, 4.4697e-01]],\n",
       "\n",
       "         [[4.0425e-02, 7.7927e-01, 5.2381e-01,  ..., 2.9316e-01,\n",
       "           2.9565e-01, 2.1037e-01],\n",
       "          [6.7025e-01, 7.1519e-01, 2.9654e-01,  ..., 8.0085e-01,\n",
       "           9.7815e-02, 9.7060e-01],\n",
       "          [7.1511e-01, 3.5484e-01, 8.0456e-01,  ..., 7.7692e-01,\n",
       "           2.1491e-01, 8.0728e-02],\n",
       "          ...,\n",
       "          [1.7597e-02, 5.8545e-01, 1.2876e-01,  ..., 7.5309e-01,\n",
       "           5.5233e-01, 8.5776e-01],\n",
       "          [2.1594e-02, 4.7263e-02, 6.8200e-01,  ..., 1.5396e-01,\n",
       "           6.4057e-01, 5.8131e-02],\n",
       "          [6.5403e-02, 8.0256e-01, 2.3188e-01,  ..., 3.5394e-01,\n",
       "           1.4060e-01, 3.4877e-01]],\n",
       "\n",
       "         [[4.5171e-01, 2.8744e-01, 2.3716e-01,  ..., 6.1884e-01,\n",
       "           6.3649e-01, 3.6755e-01],\n",
       "          [1.4060e-01, 1.6927e-01, 1.3233e-01,  ..., 1.5707e-01,\n",
       "           3.2518e-01, 4.4883e-01],\n",
       "          [9.3990e-01, 7.8384e-01, 6.8529e-01,  ..., 5.7357e-02,\n",
       "           9.0179e-01, 1.6004e-01],\n",
       "          ...,\n",
       "          [2.5279e-01, 1.6449e-01, 6.8191e-01,  ..., 3.4287e-01,\n",
       "           8.0271e-01, 9.4258e-01],\n",
       "          [9.8652e-01, 4.9730e-01, 2.1704e-01,  ..., 9.6577e-01,\n",
       "           9.9391e-01, 2.7341e-01],\n",
       "          [2.8045e-01, 9.3057e-01, 4.1668e-01,  ..., 7.1544e-02,\n",
       "           7.4838e-01, 4.0180e-01]]],\n",
       "\n",
       "\n",
       "        [[[6.7335e-01, 7.6691e-01, 4.4774e-01,  ..., 1.5128e-01,\n",
       "           5.4420e-01, 4.4057e-02],\n",
       "          [6.7461e-01, 4.4408e-01, 6.4808e-01,  ..., 7.7717e-01,\n",
       "           4.4843e-01, 2.0078e-01],\n",
       "          [2.2386e-01, 8.6466e-02, 4.3641e-01,  ..., 8.3189e-01,\n",
       "           3.7736e-01, 8.4932e-02],\n",
       "          ...,\n",
       "          [9.7221e-01, 2.1072e-01, 7.1172e-01,  ..., 2.4703e-01,\n",
       "           8.6531e-01, 5.4573e-01],\n",
       "          [8.2717e-01, 7.7988e-01, 3.0557e-01,  ..., 6.2472e-01,\n",
       "           5.9463e-01, 1.0852e-01],\n",
       "          [3.8190e-01, 7.4976e-01, 9.9266e-01,  ..., 8.6059e-02,\n",
       "           9.5776e-01, 2.4428e-01]],\n",
       "\n",
       "         [[5.0488e-01, 7.1899e-01, 1.2494e-01,  ..., 7.3505e-01,\n",
       "           2.7293e-01, 6.1346e-01],\n",
       "          [5.9201e-01, 7.1048e-01, 8.0041e-01,  ..., 9.5642e-01,\n",
       "           4.3913e-01, 3.3526e-01],\n",
       "          [1.5891e-01, 5.9566e-01, 4.5703e-01,  ..., 1.1544e-01,\n",
       "           1.0555e-01, 3.6144e-02],\n",
       "          ...,\n",
       "          [1.9467e-01, 5.2419e-03, 6.1407e-01,  ..., 8.1027e-01,\n",
       "           1.2767e-02, 4.7555e-01],\n",
       "          [6.7245e-01, 3.7505e-01, 4.1107e-01,  ..., 2.9814e-01,\n",
       "           7.4521e-01, 5.1787e-01],\n",
       "          [4.5999e-01, 2.0170e-01, 3.6938e-01,  ..., 2.7716e-01,\n",
       "           1.5247e-01, 6.0654e-01]],\n",
       "\n",
       "         [[3.4935e-01, 9.7086e-01, 4.0176e-01,  ..., 9.6955e-01,\n",
       "           7.4557e-01, 5.3475e-01],\n",
       "          [5.3916e-01, 3.1590e-01, 1.7647e-01,  ..., 9.4311e-02,\n",
       "           2.4055e-01, 1.7667e-01],\n",
       "          [9.3604e-01, 5.3402e-01, 5.9268e-01,  ..., 7.8399e-01,\n",
       "           7.0301e-01, 5.3657e-01],\n",
       "          ...,\n",
       "          [2.1451e-01, 9.3484e-01, 7.9553e-01,  ..., 2.2149e-01,\n",
       "           3.7371e-01, 9.3910e-01],\n",
       "          [8.2253e-01, 2.1634e-01, 8.7168e-01,  ..., 7.4649e-01,\n",
       "           5.3153e-01, 8.5572e-02],\n",
       "          [8.0662e-01, 4.3163e-01, 2.0279e-01,  ..., 7.7994e-01,\n",
       "           6.3136e-01, 1.3682e-01]],\n",
       "\n",
       "         ...,\n",
       "\n",
       "         [[7.1772e-01, 4.9296e-01, 9.8382e-01,  ..., 4.6470e-01,\n",
       "           7.0372e-01, 9.2086e-01],\n",
       "          [2.8508e-01, 2.8635e-01, 5.4481e-01,  ..., 2.4305e-01,\n",
       "           6.0016e-01, 1.9317e-01],\n",
       "          [9.6384e-01, 3.4569e-02, 6.2700e-01,  ..., 1.0154e-01,\n",
       "           4.5715e-01, 5.9611e-01],\n",
       "          ...,\n",
       "          [2.7341e-01, 6.7884e-01, 8.5714e-01,  ..., 5.1644e-01,\n",
       "           5.8872e-01, 9.0252e-01],\n",
       "          [2.7067e-01, 5.8580e-01, 2.3664e-01,  ..., 1.7199e-01,\n",
       "           6.0536e-01, 7.9969e-01],\n",
       "          [7.6272e-01, 4.4843e-01, 1.4055e-02,  ..., 8.9570e-01,\n",
       "           3.2957e-01, 3.0207e-01]],\n",
       "\n",
       "         [[5.4700e-01, 9.0703e-01, 9.2561e-01,  ..., 6.2787e-02,\n",
       "           7.7777e-01, 2.8238e-02],\n",
       "          [3.1818e-01, 2.3840e-01, 7.3379e-01,  ..., 9.0005e-01,\n",
       "           9.2421e-01, 1.7502e-01],\n",
       "          [3.6352e-01, 6.0584e-01, 1.5443e-01,  ..., 9.6949e-01,\n",
       "           4.6636e-01, 4.8308e-01],\n",
       "          ...,\n",
       "          [8.5901e-01, 7.1838e-01, 3.9433e-01,  ..., 4.3761e-01,\n",
       "           4.1610e-01, 1.8827e-01],\n",
       "          [4.7081e-01, 4.5360e-01, 5.5879e-01,  ..., 1.7966e-01,\n",
       "           9.4043e-01, 5.3167e-01],\n",
       "          [8.0543e-01, 1.6177e-01, 9.2399e-01,  ..., 9.5596e-01,\n",
       "           3.8190e-01, 5.7928e-02]],\n",
       "\n",
       "         [[5.3300e-01, 6.0275e-02, 6.5560e-01,  ..., 7.6001e-01,\n",
       "           2.0341e-01, 6.8880e-01],\n",
       "          [2.4533e-01, 6.3704e-02, 2.2765e-01,  ..., 7.8647e-01,\n",
       "           3.3646e-01, 9.0874e-01],\n",
       "          [5.7561e-01, 1.6288e-01, 1.9070e-01,  ..., 2.9848e-01,\n",
       "           3.6257e-01, 5.2406e-01],\n",
       "          ...,\n",
       "          [5.6254e-01, 6.5915e-01, 2.4708e-01,  ..., 9.9923e-01,\n",
       "           6.3899e-01, 1.3841e-01],\n",
       "          [3.2633e-01, 7.8749e-01, 4.6335e-02,  ..., 1.0509e-02,\n",
       "           6.0828e-02, 4.6772e-01],\n",
       "          [9.5002e-01, 9.1849e-01, 5.9870e-01,  ..., 6.9561e-01,\n",
       "           3.9268e-01, 8.5223e-01]]],\n",
       "\n",
       "\n",
       "        [[[2.9794e-01, 3.9026e-01, 5.3918e-01,  ..., 1.1019e-01,\n",
       "           6.3390e-02, 3.5182e-01],\n",
       "          [3.3948e-01, 4.3683e-01, 8.9194e-01,  ..., 8.8562e-01,\n",
       "           1.3911e-01, 3.0534e-01],\n",
       "          [2.4818e-01, 1.0130e-01, 9.2418e-01,  ..., 4.2451e-02,\n",
       "           1.4321e-01, 5.0857e-01],\n",
       "          ...,\n",
       "          [8.9155e-01, 3.5895e-01, 1.1935e-01,  ..., 4.7371e-01,\n",
       "           5.7547e-01, 8.1411e-01],\n",
       "          [3.4034e-01, 8.8060e-01, 6.7970e-01,  ..., 6.0410e-01,\n",
       "           1.5998e-01, 4.0952e-01],\n",
       "          [7.0204e-01, 5.7394e-01, 4.9572e-01,  ..., 8.2228e-01,\n",
       "           7.7366e-01, 3.6323e-01]],\n",
       "\n",
       "         [[7.9235e-01, 8.3465e-01, 2.3002e-01,  ..., 2.3179e-01,\n",
       "           9.7992e-01, 7.0823e-02],\n",
       "          [9.6863e-01, 8.3285e-01, 6.5169e-01,  ..., 4.1082e-01,\n",
       "           9.3850e-01, 9.3410e-01],\n",
       "          [6.3042e-01, 1.7742e-01, 3.0738e-01,  ..., 2.5559e-01,\n",
       "           2.0765e-02, 6.9855e-01],\n",
       "          ...,\n",
       "          [3.1513e-01, 8.1459e-01, 3.7092e-01,  ..., 6.5009e-01,\n",
       "           6.9594e-01, 5.0579e-01],\n",
       "          [4.1831e-01, 7.0066e-01, 2.2586e-01,  ..., 4.4007e-01,\n",
       "           1.7287e-01, 6.3606e-01],\n",
       "          [6.4946e-01, 2.3560e-01, 3.6895e-01,  ..., 1.3684e-01,\n",
       "           2.3681e-01, 8.6196e-01]],\n",
       "\n",
       "         [[2.7294e-01, 8.1182e-01, 3.6444e-01,  ..., 5.7193e-01,\n",
       "           5.2087e-01, 6.8285e-01],\n",
       "          [8.9765e-01, 8.0551e-01, 1.4419e-01,  ..., 3.3722e-01,\n",
       "           7.7610e-02, 2.1392e-01],\n",
       "          [3.7908e-01, 7.2419e-01, 9.5144e-01,  ..., 4.9993e-01,\n",
       "           9.5739e-01, 4.8523e-01],\n",
       "          ...,\n",
       "          [7.5263e-01, 1.5183e-01, 4.3126e-01,  ..., 4.5425e-01,\n",
       "           7.4951e-01, 3.5351e-02],\n",
       "          [9.5808e-01, 3.3594e-01, 4.4896e-01,  ..., 7.2293e-01,\n",
       "           6.3926e-01, 6.9545e-01],\n",
       "          [6.8404e-01, 3.6156e-01, 5.9498e-01,  ..., 4.6124e-01,\n",
       "           5.5741e-01, 3.2943e-04]],\n",
       "\n",
       "         ...,\n",
       "\n",
       "         [[5.7160e-01, 7.2069e-01, 5.9372e-01,  ..., 3.5630e-01,\n",
       "           4.3378e-01, 8.8143e-01],\n",
       "          [9.6968e-02, 8.0203e-01, 5.6100e-01,  ..., 7.9103e-01,\n",
       "           2.6604e-01, 3.7970e-01],\n",
       "          [9.2076e-01, 6.2833e-02, 9.9380e-02,  ..., 9.4054e-02,\n",
       "           5.2267e-01, 1.8659e-01],\n",
       "          ...,\n",
       "          [4.7224e-01, 1.8543e-01, 9.4094e-01,  ..., 6.2082e-03,\n",
       "           4.1456e-01, 1.3015e-01],\n",
       "          [6.6376e-01, 6.6271e-01, 2.0548e-01,  ..., 3.0148e-01,\n",
       "           3.8955e-01, 8.8313e-01],\n",
       "          [8.5420e-02, 5.0435e-01, 7.0497e-01,  ..., 6.6654e-02,\n",
       "           1.2063e-01, 4.5362e-01]],\n",
       "\n",
       "         [[8.3667e-04, 6.7124e-01, 6.5359e-01,  ..., 5.3459e-01,\n",
       "           2.7071e-01, 8.5431e-01],\n",
       "          [7.5862e-01, 6.1822e-01, 8.0512e-01,  ..., 5.6112e-01,\n",
       "           3.1039e-01, 4.8091e-01],\n",
       "          [1.7679e-01, 4.2318e-01, 6.3898e-01,  ..., 1.0399e-01,\n",
       "           4.6651e-01, 8.7363e-01],\n",
       "          ...,\n",
       "          [8.6643e-01, 4.3343e-01, 9.6974e-01,  ..., 3.2242e-01,\n",
       "           8.3077e-01, 8.0555e-01],\n",
       "          [2.9472e-01, 1.1913e-01, 2.1684e-01,  ..., 3.8263e-01,\n",
       "           1.9512e-02, 8.1539e-01],\n",
       "          [5.6670e-01, 8.7103e-01, 5.8926e-01,  ..., 6.0882e-01,\n",
       "           3.3779e-01, 5.3001e-01]],\n",
       "\n",
       "         [[1.5349e-01, 8.1431e-02, 9.7628e-01,  ..., 4.3218e-01,\n",
       "           2.2790e-01, 5.2670e-01],\n",
       "          [5.0982e-01, 4.2541e-01, 7.3625e-02,  ..., 7.3210e-01,\n",
       "           5.9347e-01, 4.0672e-01],\n",
       "          [1.2094e-01, 5.1195e-01, 4.1498e-01,  ..., 1.9097e-01,\n",
       "           2.9109e-01, 4.7185e-01],\n",
       "          ...,\n",
       "          [1.2284e-01, 4.8992e-01, 7.8086e-01,  ..., 3.9148e-01,\n",
       "           2.1257e-02, 2.9901e-01],\n",
       "          [1.5751e-01, 5.1642e-01, 3.8152e-01,  ..., 5.6828e-01,\n",
       "           4.1941e-01, 8.1371e-01],\n",
       "          [4.5792e-01, 8.6970e-01, 7.7810e-01,  ..., 6.1539e-01,\n",
       "           3.4748e-01, 5.2010e-01]]],\n",
       "\n",
       "\n",
       "        ...,\n",
       "\n",
       "\n",
       "        [[[8.4345e-01, 9.9975e-01, 4.4164e-01,  ..., 2.7440e-01,\n",
       "           9.8684e-01, 1.4658e-01],\n",
       "          [4.2401e-01, 8.1648e-01, 1.5541e-01,  ..., 2.9353e-01,\n",
       "           4.3799e-01, 2.2841e-01],\n",
       "          [1.8446e-01, 4.8369e-01, 3.7964e-01,  ..., 1.4900e-01,\n",
       "           2.2731e-02, 6.8265e-01],\n",
       "          ...,\n",
       "          [7.9114e-01, 5.8695e-01, 7.9477e-01,  ..., 2.3278e-02,\n",
       "           8.2579e-01, 1.9360e-01],\n",
       "          [9.6738e-01, 1.6138e-01, 5.2679e-01,  ..., 9.4603e-02,\n",
       "           5.0411e-01, 4.5224e-01],\n",
       "          [2.8792e-01, 5.1424e-01, 8.4365e-01,  ..., 5.0078e-01,\n",
       "           4.5723e-02, 8.4255e-01]],\n",
       "\n",
       "         [[9.2487e-01, 9.7155e-01, 7.0693e-01,  ..., 3.6361e-02,\n",
       "           6.4058e-01, 3.2195e-01],\n",
       "          [7.7295e-01, 6.1631e-01, 3.2327e-01,  ..., 9.0904e-01,\n",
       "           1.3513e-01, 9.5291e-01],\n",
       "          [5.8951e-01, 2.7915e-01, 6.0261e-01,  ..., 5.0831e-01,\n",
       "           9.7965e-01, 8.1677e-01],\n",
       "          ...,\n",
       "          [1.9542e-02, 6.9559e-01, 3.3602e-01,  ..., 6.4567e-01,\n",
       "           1.2368e-01, 5.5414e-01],\n",
       "          [4.3072e-01, 5.8148e-01, 6.8845e-01,  ..., 1.0046e-01,\n",
       "           3.4626e-01, 5.9494e-01],\n",
       "          [8.6492e-02, 9.9168e-01, 5.4792e-01,  ..., 9.9982e-01,\n",
       "           4.8442e-01, 2.9843e-01]],\n",
       "\n",
       "         [[6.4290e-01, 3.7749e-01, 5.0974e-01,  ..., 6.0512e-01,\n",
       "           9.8495e-01, 8.4388e-01],\n",
       "          [8.2064e-01, 9.3438e-01, 1.7062e-01,  ..., 4.2971e-01,\n",
       "           3.4379e-01, 7.7616e-01],\n",
       "          [4.5993e-01, 7.6704e-01, 7.7646e-01,  ..., 5.8126e-01,\n",
       "           2.9510e-02, 6.2456e-01],\n",
       "          ...,\n",
       "          [4.5138e-01, 5.9693e-01, 8.8504e-01,  ..., 9.2854e-01,\n",
       "           4.8462e-01, 5.1391e-01],\n",
       "          [4.8418e-01, 8.0759e-01, 1.4757e-01,  ..., 7.9462e-01,\n",
       "           4.5947e-01, 4.5677e-01],\n",
       "          [1.6825e-03, 9.4149e-01, 4.7953e-01,  ..., 3.1000e-01,\n",
       "           9.1946e-01, 7.3342e-01]],\n",
       "\n",
       "         ...,\n",
       "\n",
       "         [[9.0897e-01, 8.4406e-02, 2.2201e-02,  ..., 7.3037e-01,\n",
       "           1.2122e-01, 8.8055e-01],\n",
       "          [9.9921e-01, 2.1857e-01, 4.5655e-01,  ..., 9.9116e-01,\n",
       "           6.3733e-01, 5.0121e-03],\n",
       "          [6.7286e-01, 3.7172e-01, 9.1095e-01,  ..., 7.1368e-01,\n",
       "           2.4331e-01, 3.3136e-01],\n",
       "          ...,\n",
       "          [6.3107e-02, 3.8206e-01, 1.1099e-01,  ..., 3.6036e-01,\n",
       "           1.6329e-01, 2.9719e-01],\n",
       "          [1.9395e-01, 3.8223e-01, 1.2587e-01,  ..., 9.7822e-01,\n",
       "           2.2453e-02, 8.0589e-01],\n",
       "          [8.2312e-01, 3.0295e-01, 3.2564e-02,  ..., 4.2803e-01,\n",
       "           9.2308e-01, 3.9462e-02]],\n",
       "\n",
       "         [[5.6811e-01, 1.5975e-01, 6.1098e-01,  ..., 6.6746e-01,\n",
       "           4.0149e-03, 3.4248e-01],\n",
       "          [8.9166e-01, 3.2812e-01, 4.6425e-02,  ..., 8.8323e-01,\n",
       "           3.9051e-01, 7.2647e-01],\n",
       "          [1.0170e-01, 4.4604e-01, 2.9116e-01,  ..., 2.5532e-01,\n",
       "           6.4682e-01, 3.2885e-01],\n",
       "          ...,\n",
       "          [6.8777e-01, 4.0492e-01, 6.4506e-01,  ..., 2.2510e-01,\n",
       "           5.4672e-01, 6.8567e-01],\n",
       "          [1.7539e-01, 7.5372e-01, 9.7535e-01,  ..., 9.8089e-01,\n",
       "           4.5379e-01, 5.9538e-01],\n",
       "          [1.4898e-01, 5.3329e-01, 9.2709e-01,  ..., 3.3910e-01,\n",
       "           6.6338e-01, 9.9969e-01]],\n",
       "\n",
       "         [[4.7557e-01, 4.6403e-01, 1.6721e-01,  ..., 8.6957e-01,\n",
       "           9.2491e-01, 3.1226e-01],\n",
       "          [3.2077e-01, 2.4080e-01, 6.7725e-01,  ..., 4.0208e-01,\n",
       "           9.6397e-03, 8.4789e-01],\n",
       "          [4.1371e-01, 9.3108e-01, 7.5177e-01,  ..., 6.1703e-02,\n",
       "           8.5727e-01, 3.8262e-01],\n",
       "          ...,\n",
       "          [9.7996e-01, 1.9015e-01, 6.6684e-01,  ..., 1.7232e-01,\n",
       "           1.3693e-01, 3.3196e-01],\n",
       "          [9.9590e-01, 5.8907e-02, 1.0578e-02,  ..., 5.2100e-01,\n",
       "           8.7071e-01, 5.7161e-01],\n",
       "          [5.5398e-01, 3.8833e-01, 6.3247e-01,  ..., 6.0548e-01,\n",
       "           6.5292e-01, 2.9473e-01]]],\n",
       "\n",
       "\n",
       "        [[[9.6428e-01, 1.7084e-01, 8.9650e-01,  ..., 1.9352e-01,\n",
       "           5.8237e-01, 7.5336e-01],\n",
       "          [1.5413e-01, 8.0874e-02, 8.0525e-01,  ..., 4.5741e-01,\n",
       "           5.6702e-01, 6.4928e-02],\n",
       "          [1.4875e-01, 2.1333e-01, 7.7496e-01,  ..., 6.3179e-01,\n",
       "           7.8184e-01, 5.4607e-01],\n",
       "          ...,\n",
       "          [1.6084e-01, 1.5710e-01, 2.3722e-01,  ..., 8.4431e-01,\n",
       "           1.6617e-01, 7.0224e-01],\n",
       "          [6.8202e-01, 2.5042e-01, 5.0655e-01,  ..., 1.7783e-01,\n",
       "           8.8821e-01, 6.9154e-01],\n",
       "          [1.6273e-01, 6.3214e-01, 7.5794e-01,  ..., 7.3674e-01,\n",
       "           7.0283e-01, 6.6937e-01]],\n",
       "\n",
       "         [[7.7279e-01, 4.0213e-01, 6.5511e-01,  ..., 6.3303e-01,\n",
       "           4.1608e-01, 7.9519e-01],\n",
       "          [7.4170e-01, 8.5576e-01, 9.8675e-01,  ..., 3.7104e-01,\n",
       "           5.8586e-01, 9.9700e-01],\n",
       "          [1.7608e-01, 1.0451e-01, 4.8666e-01,  ..., 2.7401e-01,\n",
       "           7.9932e-01, 4.1627e-01],\n",
       "          ...,\n",
       "          [4.7539e-01, 8.6797e-01, 7.2613e-01,  ..., 7.5592e-01,\n",
       "           6.4071e-01, 8.3195e-01],\n",
       "          [5.8308e-01, 5.5321e-01, 3.1032e-01,  ..., 6.3028e-01,\n",
       "           1.0067e-01, 8.8312e-01],\n",
       "          [1.7944e-01, 4.0028e-01, 7.3207e-01,  ..., 7.2572e-01,\n",
       "           7.8979e-01, 6.5586e-01]],\n",
       "\n",
       "         [[6.7850e-01, 8.8893e-01, 9.9144e-02,  ..., 5.5726e-01,\n",
       "           1.1401e-01, 8.7049e-01],\n",
       "          [5.8497e-01, 6.5893e-01, 2.9764e-01,  ..., 1.8250e-01,\n",
       "           6.5274e-01, 2.2955e-01],\n",
       "          [6.9281e-01, 1.2347e-01, 4.2125e-01,  ..., 6.9141e-01,\n",
       "           8.1474e-01, 3.8505e-01],\n",
       "          ...,\n",
       "          [3.0617e-01, 7.9760e-01, 8.1646e-02,  ..., 7.7884e-01,\n",
       "           7.1410e-01, 1.2874e-02],\n",
       "          [2.9928e-01, 4.3841e-01, 2.3013e-01,  ..., 9.1301e-01,\n",
       "           3.2150e-01, 9.5552e-01],\n",
       "          [6.1997e-01, 5.3915e-01, 5.7387e-01,  ..., 1.2727e-02,\n",
       "           9.7029e-01, 5.6372e-01]],\n",
       "\n",
       "         ...,\n",
       "\n",
       "         [[2.3838e-01, 8.1594e-02, 2.8453e-01,  ..., 7.2996e-01,\n",
       "           4.0792e-01, 8.4006e-01],\n",
       "          [7.9367e-01, 8.3353e-01, 1.5221e-02,  ..., 1.2707e-02,\n",
       "           5.6920e-01, 1.5660e-01],\n",
       "          [2.9282e-01, 1.6736e-01, 7.7588e-01,  ..., 8.2863e-01,\n",
       "           5.3294e-01, 4.6608e-01],\n",
       "          ...,\n",
       "          [9.9195e-01, 8.5498e-01, 4.5834e-01,  ..., 1.8554e-02,\n",
       "           6.6017e-01, 9.3217e-01],\n",
       "          [3.0214e-01, 1.3770e-01, 4.6153e-01,  ..., 4.5504e-02,\n",
       "           4.8435e-01, 1.7642e-01],\n",
       "          [5.0702e-01, 3.7759e-01, 2.0690e-01,  ..., 4.6962e-01,\n",
       "           8.6868e-01, 7.9179e-01]],\n",
       "\n",
       "         [[5.0284e-02, 4.3360e-01, 5.5467e-01,  ..., 1.2213e-01,\n",
       "           1.2917e-01, 9.7983e-01],\n",
       "          [4.7644e-02, 8.6053e-01, 7.4041e-01,  ..., 8.8587e-01,\n",
       "           7.8492e-02, 4.3765e-01],\n",
       "          [8.0025e-01, 2.3204e-01, 9.6195e-01,  ..., 4.5088e-01,\n",
       "           8.4547e-01, 9.4811e-01],\n",
       "          ...,\n",
       "          [7.8066e-01, 3.4167e-02, 8.2814e-02,  ..., 7.7296e-01,\n",
       "           5.6649e-01, 1.5920e-01],\n",
       "          [9.5224e-01, 7.0431e-01, 8.1172e-01,  ..., 2.7251e-01,\n",
       "           7.0722e-01, 8.8023e-01],\n",
       "          [9.4257e-01, 1.0022e-01, 5.7581e-01,  ..., 7.6887e-01,\n",
       "           5.0317e-01, 1.8402e-01]],\n",
       "\n",
       "         [[5.1901e-01, 6.5539e-01, 2.9337e-01,  ..., 9.9726e-01,\n",
       "           3.4393e-01, 3.4828e-01],\n",
       "          [6.5728e-01, 9.9815e-01, 1.0850e-01,  ..., 7.5875e-01,\n",
       "           6.5594e-01, 8.0284e-01],\n",
       "          [5.7547e-01, 5.7023e-01, 7.1034e-01,  ..., 9.1626e-01,\n",
       "           7.5864e-01, 9.3598e-02],\n",
       "          ...,\n",
       "          [4.6604e-01, 4.0516e-01, 1.0473e-01,  ..., 5.4081e-01,\n",
       "           9.7464e-01, 2.5874e-01],\n",
       "          [3.0097e-01, 2.2950e-01, 7.0213e-01,  ..., 2.4860e-01,\n",
       "           3.3538e-01, 2.7780e-01],\n",
       "          [9.2352e-01, 1.6171e-01, 9.4485e-02,  ..., 9.3567e-02,\n",
       "           3.4935e-01, 2.7031e-01]]],\n",
       "\n",
       "\n",
       "        [[[6.8577e-01, 3.3438e-01, 3.5058e-01,  ..., 4.7963e-01,\n",
       "           5.7560e-01, 7.6381e-01],\n",
       "          [7.3647e-01, 8.5103e-01, 4.3105e-01,  ..., 3.0911e-01,\n",
       "           8.5029e-01, 9.0230e-01],\n",
       "          [4.1396e-01, 7.9761e-01, 5.5771e-01,  ..., 6.4440e-01,\n",
       "           7.7921e-01, 1.3254e-01],\n",
       "          ...,\n",
       "          [8.1109e-01, 2.8441e-01, 3.4031e-01,  ..., 4.7342e-01,\n",
       "           8.7917e-01, 8.8621e-01],\n",
       "          [9.1492e-01, 7.6951e-01, 5.5412e-01,  ..., 8.6665e-01,\n",
       "           4.4709e-01, 3.8027e-01],\n",
       "          [3.9947e-01, 5.5996e-01, 6.3976e-01,  ..., 4.0472e-01,\n",
       "           9.8118e-01, 4.3217e-02]],\n",
       "\n",
       "         [[7.8904e-01, 2.7886e-01, 2.6702e-01,  ..., 1.0649e-01,\n",
       "           1.4580e-01, 1.7148e-01],\n",
       "          [4.3635e-01, 8.4057e-01, 2.3144e-01,  ..., 9.4716e-01,\n",
       "           5.9962e-01, 2.6444e-01],\n",
       "          [9.4118e-02, 5.2134e-02, 5.1223e-02,  ..., 2.7282e-01,\n",
       "           6.0634e-01, 4.0987e-01],\n",
       "          ...,\n",
       "          [7.0145e-01, 8.4544e-01, 4.6763e-02,  ..., 7.8982e-01,\n",
       "           4.4053e-01, 7.3377e-01],\n",
       "          [3.6782e-01, 5.3410e-01, 2.6569e-03,  ..., 9.5051e-02,\n",
       "           9.8455e-01, 3.3713e-01],\n",
       "          [2.4514e-01, 3.3974e-01, 5.5052e-01,  ..., 4.4399e-01,\n",
       "           9.4031e-01, 2.8908e-01]],\n",
       "\n",
       "         [[1.9973e-02, 9.1806e-01, 1.1044e-01,  ..., 3.7183e-01,\n",
       "           5.4365e-01, 9.3880e-01],\n",
       "          [7.2299e-01, 4.0730e-01, 6.6472e-01,  ..., 2.1852e-01,\n",
       "           5.7787e-01, 5.6687e-01],\n",
       "          [5.1520e-01, 6.1391e-01, 4.7408e-01,  ..., 8.0337e-01,\n",
       "           9.9090e-01, 8.5202e-01],\n",
       "          ...,\n",
       "          [5.5144e-01, 5.3149e-01, 6.8560e-01,  ..., 2.4040e-01,\n",
       "           2.6880e-01, 3.4781e-02],\n",
       "          [1.1400e-01, 9.6352e-01, 5.7914e-01,  ..., 7.4030e-01,\n",
       "           8.2091e-01, 1.5761e-01],\n",
       "          [2.6517e-01, 1.8196e-01, 2.3014e-01,  ..., 5.9985e-01,\n",
       "           6.6124e-01, 8.7263e-01]],\n",
       "\n",
       "         ...,\n",
       "\n",
       "         [[1.3063e-01, 5.4959e-01, 3.7447e-01,  ..., 3.6897e-01,\n",
       "           9.9425e-01, 4.5151e-01],\n",
       "          [7.7751e-01, 3.7102e-01, 5.6016e-01,  ..., 5.9976e-01,\n",
       "           2.2375e-01, 8.1171e-01],\n",
       "          [5.9232e-01, 1.7371e-01, 1.0684e-01,  ..., 2.9508e-01,\n",
       "           7.5818e-01, 7.3991e-01],\n",
       "          ...,\n",
       "          [3.3463e-01, 7.0664e-01, 1.5781e-01,  ..., 8.7917e-01,\n",
       "           7.8040e-02, 1.8682e-01],\n",
       "          [2.8810e-01, 8.1450e-01, 6.1375e-01,  ..., 6.1143e-01,\n",
       "           7.3231e-01, 3.6290e-01],\n",
       "          [6.8951e-01, 6.2290e-01, 5.4996e-01,  ..., 2.1235e-01,\n",
       "           8.3790e-01, 8.0879e-01]],\n",
       "\n",
       "         [[5.8192e-01, 3.3006e-01, 7.3554e-03,  ..., 9.3521e-01,\n",
       "           5.4284e-01, 4.3704e-01],\n",
       "          [6.8136e-01, 3.4518e-01, 6.5118e-01,  ..., 8.6181e-01,\n",
       "           9.7126e-01, 8.9962e-02],\n",
       "          [3.2161e-01, 2.6320e-01, 7.8223e-01,  ..., 8.9023e-01,\n",
       "           6.2657e-01, 1.1198e-01],\n",
       "          ...,\n",
       "          [2.1589e-01, 5.0794e-01, 5.0720e-01,  ..., 3.2246e-01,\n",
       "           8.4894e-01, 2.8714e-01],\n",
       "          [3.6058e-01, 4.9009e-01, 7.4835e-01,  ..., 2.8599e-01,\n",
       "           6.3299e-01, 1.5252e-01],\n",
       "          [1.3416e-01, 2.6468e-01, 3.1361e-01,  ..., 1.5645e-01,\n",
       "           6.3925e-01, 1.2343e-01]],\n",
       "\n",
       "         [[1.2712e-02, 3.3103e-01, 1.6932e-01,  ..., 1.1937e-01,\n",
       "           4.0057e-01, 4.4649e-01],\n",
       "          [1.1142e-01, 1.4009e-01, 1.7653e-01,  ..., 5.6677e-01,\n",
       "           3.3997e-01, 7.8302e-01],\n",
       "          [8.0031e-01, 7.8502e-01, 4.2635e-01,  ..., 2.6862e-01,\n",
       "           7.4784e-01, 1.9268e-01],\n",
       "          ...,\n",
       "          [8.1430e-01, 7.4101e-01, 3.0590e-01,  ..., 4.1681e-01,\n",
       "           5.8069e-01, 8.4528e-01],\n",
       "          [6.6847e-01, 3.6860e-01, 7.7138e-01,  ..., 8.5486e-01,\n",
       "           3.4517e-01, 4.2184e-01],\n",
       "          [1.3428e-02, 5.3779e-01, 3.9126e-01,  ..., 8.9366e-01,\n",
       "           6.2718e-01, 8.8273e-01]]]], device='cuda:0')"
      ]
     },
     "execution_count": 61,
     "metadata": {},
     "output_type": "execute_result"
    }
   ],
   "source": [
    "x = torch.rand((7,100,100,100))\n",
    "x.to(device)"
   ]
  },
  {
   "cell_type": "code",
   "execution_count": 62,
   "metadata": {},
   "outputs": [
    {
     "data": {
      "text/plain": [
       "torch.Size([1, 7, 100, 100, 100])"
      ]
     },
     "execution_count": 62,
     "metadata": {},
     "output_type": "execute_result"
    }
   ],
   "source": [
    "x = x.unsqueeze(0)\n",
    "x.shape"
   ]
  },
  {
   "cell_type": "code",
   "execution_count": 63,
   "metadata": {},
   "outputs": [],
   "source": [
    "(N, C, D, H, W) = x.shape"
   ]
  },
  {
   "cell_type": "markdown",
   "metadata": {},
   "source": [
    "See Shape section in: https://pytorch.org/docs/stable/generated/torch.nn.Conv3d.html"
   ]
  },
  {
   "cell_type": "code",
   "execution_count": null,
   "metadata": {},
   "outputs": [],
   "source": [
    "# D_out = ((D + 2*padding - dilation*(kernel_size-1) - 1)/stride) + 1\n",
    "# H_out = ((H + 2*padding - dilation*(kernel_size-1) - 1)/stride) + 1\n",
    "# W_out = ((W + 2*padding - dilation*(kernel_size-1) - 1)/stride) + 1"
   ]
  },
  {
   "cell_type": "code",
   "execution_count": 64,
   "metadata": {},
   "outputs": [
    {
     "data": {
      "text/plain": [
       "torch.Size([1, 1, 91, 91, 91])"
      ]
     },
     "execution_count": 64,
     "metadata": {},
     "output_type": "execute_result"
    }
   ],
   "source": [
    "conv = nn.Conv3d(in_channels=C, out_channels=1, kernel_size=10)\n",
    "conv(x).shape # 0.6s"
   ]
  },
  {
   "cell_type": "code",
   "execution_count": 65,
   "metadata": {},
   "outputs": [
    {
     "data": {
      "text/plain": [
       "torch.Size([1, 1, 51, 51, 51])"
      ]
     },
     "execution_count": 65,
     "metadata": {},
     "output_type": "execute_result"
    }
   ],
   "source": [
    "conv = nn.Conv3d(in_channels=C, out_channels=1, kernel_size=50)\n",
    "conv(x).shape # 22.9s"
   ]
  },
  {
   "cell_type": "code",
   "execution_count": 66,
   "metadata": {},
   "outputs": [
    {
     "data": {
      "text/plain": [
       "torch.Size([1, 1, 10, 10, 10])"
      ]
     },
     "execution_count": 66,
     "metadata": {},
     "output_type": "execute_result"
    }
   ],
   "source": [
    "conv = nn.Conv3d(in_channels=C, out_channels=1, kernel_size=10, stride=10)\n",
    "conv(x).shape # 0.0s"
   ]
  },
  {
   "cell_type": "markdown",
   "metadata": {},
   "source": [
    "### Larger Input Tensor\n",
    "\n",
    "Note that code has been commented out because of their long runtimes."
   ]
  },
  {
   "cell_type": "code",
   "execution_count": null,
   "metadata": {},
   "outputs": [],
   "source": [
    "x = torch.rand((7,500,500,500))"
   ]
  },
  {
   "cell_type": "code",
   "execution_count": 47,
   "metadata": {},
   "outputs": [
    {
     "data": {
      "text/plain": [
       "torch.Size([1, 7, 500, 500, 500])"
      ]
     },
     "execution_count": 47,
     "metadata": {},
     "output_type": "execute_result"
    }
   ],
   "source": [
    "x = x.unsqueeze(0)\n",
    "x.shape"
   ]
  },
  {
   "cell_type": "code",
   "execution_count": 48,
   "metadata": {},
   "outputs": [],
   "source": [
    "(N, C, D, H, W) = x.shape"
   ]
  },
  {
   "cell_type": "code",
   "execution_count": 49,
   "metadata": {},
   "outputs": [
    {
     "data": {
      "text/plain": [
       "tensor([[[[[5.0772e-01, 2.8245e-01, 5.0260e-01,  ..., 2.0511e-02,\n",
       "            3.1671e-01, 2.2472e-01],\n",
       "           [6.4318e-01, 3.9108e-02, 8.8381e-01,  ..., 9.5520e-02,\n",
       "            7.2430e-01, 8.0891e-02],\n",
       "           [2.3047e-01, 9.4681e-01, 6.8016e-01,  ..., 2.5511e-02,\n",
       "            5.4949e-01, 8.7874e-01],\n",
       "           ...,\n",
       "           [7.9657e-01, 2.6782e-01, 6.7528e-01,  ..., 5.2497e-01,\n",
       "            5.6398e-01, 9.9298e-02],\n",
       "           [8.3544e-01, 5.7781e-01, 5.6891e-01,  ..., 6.5298e-01,\n",
       "            2.9631e-01, 7.5155e-01],\n",
       "           [7.5463e-01, 7.8484e-01, 1.2507e-01,  ..., 9.3057e-01,\n",
       "            1.6868e-01, 1.1122e-01]],\n",
       "\n",
       "          [[7.2107e-01, 5.2380e-01, 9.3793e-01,  ..., 9.0589e-01,\n",
       "            5.8841e-02, 3.0431e-01],\n",
       "           [8.2370e-01, 7.1802e-01, 8.2395e-01,  ..., 3.4387e-02,\n",
       "            8.3237e-01, 6.0437e-01],\n",
       "           [4.2817e-01, 2.1229e-01, 1.7281e-01,  ..., 5.8156e-01,\n",
       "            7.2536e-01, 1.5066e-01],\n",
       "           ...,\n",
       "           [1.8736e-01, 9.5154e-01, 1.3620e-01,  ..., 3.5352e-01,\n",
       "            3.5882e-04, 2.3640e-01],\n",
       "           [9.9446e-01, 1.7284e-01, 1.0221e-01,  ..., 7.2643e-01,\n",
       "            2.6514e-01, 5.2247e-01],\n",
       "           [1.6661e-01, 8.8985e-02, 1.8882e-01,  ..., 1.1028e-02,\n",
       "            6.9005e-01, 7.9195e-01]],\n",
       "\n",
       "          [[1.6238e-01, 1.8218e-01, 8.7599e-01,  ..., 2.3494e-01,\n",
       "            9.3280e-01, 4.6592e-01],\n",
       "           [1.5321e-01, 4.3357e-01, 4.8217e-01,  ..., 8.4613e-01,\n",
       "            8.0927e-01, 7.0402e-01],\n",
       "           [2.5918e-02, 1.5681e-01, 6.0335e-01,  ..., 6.1677e-01,\n",
       "            4.0132e-01, 6.6064e-01],\n",
       "           ...,\n",
       "           [9.7756e-01, 7.2707e-01, 5.2037e-02,  ..., 3.3190e-01,\n",
       "            4.4728e-01, 3.2245e-01],\n",
       "           [1.5281e-01, 6.2830e-01, 4.6638e-01,  ..., 5.3605e-01,\n",
       "            2.0109e-01, 8.3673e-01],\n",
       "           [9.5687e-01, 4.6204e-01, 4.9623e-01,  ..., 1.6057e-02,\n",
       "            1.7766e-01, 9.8786e-01]],\n",
       "\n",
       "          ...,\n",
       "\n",
       "          [[7.1571e-01, 2.3081e-02, 1.3462e-01,  ..., 4.5239e-01,\n",
       "            8.8638e-02, 8.8517e-01],\n",
       "           [5.8407e-01, 3.1975e-01, 3.2246e-01,  ..., 9.7745e-02,\n",
       "            5.6258e-01, 2.0239e-01],\n",
       "           [4.7573e-01, 7.1568e-03, 9.0490e-01,  ..., 8.0875e-01,\n",
       "            9.6747e-02, 4.6106e-01],\n",
       "           ...,\n",
       "           [5.8723e-01, 7.8729e-01, 9.1480e-01,  ..., 7.0709e-01,\n",
       "            2.1810e-01, 8.0357e-02],\n",
       "           [3.4700e-01, 9.1416e-01, 3.5621e-02,  ..., 9.8636e-01,\n",
       "            7.3751e-01, 8.7640e-01],\n",
       "           [3.2788e-01, 9.7845e-01, 5.0202e-01,  ..., 8.6045e-01,\n",
       "            3.6732e-01, 1.0979e-01]],\n",
       "\n",
       "          [[7.3575e-01, 4.2236e-01, 3.8345e-01,  ..., 1.5688e-01,\n",
       "            3.5749e-01, 5.6022e-02],\n",
       "           [1.7326e-01, 2.2992e-01, 3.0037e-01,  ..., 5.9204e-02,\n",
       "            4.2317e-01, 4.2674e-01],\n",
       "           [1.7558e-01, 3.5184e-01, 6.1643e-01,  ..., 3.8186e-01,\n",
       "            4.9093e-01, 5.5656e-01],\n",
       "           ...,\n",
       "           [4.3661e-01, 1.1953e-01, 2.4892e-01,  ..., 1.1589e-01,\n",
       "            6.2332e-01, 5.7373e-01],\n",
       "           [6.9489e-01, 5.1697e-01, 9.8534e-01,  ..., 7.8462e-01,\n",
       "            1.4989e-02, 7.7664e-01],\n",
       "           [8.4957e-01, 3.4656e-01, 5.1128e-02,  ..., 5.8622e-01,\n",
       "            7.7330e-01, 3.4308e-01]],\n",
       "\n",
       "          [[9.5771e-01, 4.8436e-01, 8.4177e-01,  ..., 1.4099e-01,\n",
       "            5.1816e-01, 4.6981e-01],\n",
       "           [9.8595e-01, 7.8499e-01, 2.1029e-01,  ..., 9.5731e-01,\n",
       "            5.2080e-01, 4.7739e-01],\n",
       "           [3.1548e-01, 3.1393e-01, 8.6656e-01,  ..., 3.9240e-01,\n",
       "            4.2427e-01, 3.2201e-02],\n",
       "           ...,\n",
       "           [6.7514e-01, 2.5899e-01, 5.3442e-01,  ..., 4.8205e-01,\n",
       "            8.6871e-01, 5.5574e-01],\n",
       "           [7.1865e-01, 8.3471e-02, 2.1518e-01,  ..., 7.3555e-01,\n",
       "            7.8191e-01, 4.8858e-02],\n",
       "           [7.4302e-01, 9.7070e-01, 2.4093e-01,  ..., 4.7332e-01,\n",
       "            8.1820e-01, 5.2002e-01]]],\n",
       "\n",
       "\n",
       "         [[[8.2177e-01, 8.3938e-01, 4.7180e-01,  ..., 1.7939e-01,\n",
       "            4.4200e-01, 6.7499e-01],\n",
       "           [6.5643e-01, 7.2982e-01, 4.5580e-01,  ..., 8.3044e-01,\n",
       "            8.6099e-01, 2.4432e-01],\n",
       "           [4.9552e-01, 3.7163e-01, 3.2367e-01,  ..., 6.6946e-01,\n",
       "            8.9654e-01, 8.7560e-02],\n",
       "           ...,\n",
       "           [9.6700e-01, 8.7438e-01, 5.2782e-01,  ..., 1.0446e-01,\n",
       "            7.2405e-01, 4.6672e-01],\n",
       "           [9.2879e-01, 8.9143e-01, 7.8508e-02,  ..., 7.8989e-01,\n",
       "            3.4189e-01, 4.5610e-03],\n",
       "           [2.7566e-01, 2.2747e-01, 5.2074e-01,  ..., 4.7698e-01,\n",
       "            8.9610e-01, 9.0808e-01]],\n",
       "\n",
       "          [[7.1057e-01, 2.0765e-01, 2.4799e-01,  ..., 9.6895e-01,\n",
       "            9.0575e-01, 9.1756e-01],\n",
       "           [9.5552e-01, 6.0057e-01, 2.3152e-01,  ..., 8.1047e-01,\n",
       "            1.4026e-01, 9.6206e-01],\n",
       "           [2.1584e-01, 5.9775e-02, 9.3027e-01,  ..., 3.5178e-01,\n",
       "            4.9902e-01, 5.2685e-01],\n",
       "           ...,\n",
       "           [7.6136e-02, 1.1165e-01, 7.3406e-01,  ..., 2.0467e-01,\n",
       "            1.5432e-02, 5.8599e-01],\n",
       "           [3.4607e-01, 4.3540e-01, 6.6192e-01,  ..., 5.2485e-02,\n",
       "            6.0203e-01, 7.0114e-01],\n",
       "           [4.5078e-01, 1.2286e-01, 9.9093e-01,  ..., 5.0545e-02,\n",
       "            2.6685e-01, 5.0902e-01]],\n",
       "\n",
       "          [[4.9666e-01, 7.4080e-01, 3.7125e-01,  ..., 5.3275e-02,\n",
       "            1.8001e-01, 5.6586e-02],\n",
       "           [6.5085e-01, 9.7303e-01, 5.5513e-01,  ..., 3.5934e-01,\n",
       "            3.1814e-01, 2.0688e-01],\n",
       "           [4.3700e-01, 5.4865e-01, 5.0595e-01,  ..., 3.3747e-01,\n",
       "            2.1302e-01, 9.9552e-01],\n",
       "           ...,\n",
       "           [6.8508e-01, 6.7046e-01, 4.0370e-01,  ..., 8.9037e-01,\n",
       "            9.8438e-01, 6.9740e-01],\n",
       "           [4.2473e-01, 3.4385e-01, 4.8755e-01,  ..., 2.3934e-01,\n",
       "            7.4348e-01, 7.7410e-01],\n",
       "           [5.3116e-01, 3.8467e-01, 6.7088e-01,  ..., 7.2278e-01,\n",
       "            2.6219e-01, 3.2219e-01]],\n",
       "\n",
       "          ...,\n",
       "\n",
       "          [[1.2362e-01, 8.6542e-01, 9.3706e-01,  ..., 2.3716e-01,\n",
       "            8.1765e-01, 8.6252e-01],\n",
       "           [4.5575e-01, 7.4336e-01, 7.5517e-01,  ..., 7.8092e-01,\n",
       "            4.5376e-01, 9.3590e-01],\n",
       "           [2.7642e-01, 7.0533e-01, 9.7047e-01,  ..., 9.8831e-01,\n",
       "            6.7227e-01, 9.0111e-01],\n",
       "           ...,\n",
       "           [2.7820e-01, 2.5666e-01, 2.7468e-01,  ..., 1.9313e-01,\n",
       "            3.0162e-01, 1.5688e-01],\n",
       "           [8.7839e-01, 7.5629e-01, 6.1836e-01,  ..., 4.0695e-02,\n",
       "            3.5813e-01, 4.3739e-01],\n",
       "           [5.1711e-01, 4.2368e-01, 5.6363e-01,  ..., 4.9497e-01,\n",
       "            7.3257e-01, 8.3712e-01]],\n",
       "\n",
       "          [[5.5014e-01, 3.6977e-01, 7.9407e-01,  ..., 1.2393e-01,\n",
       "            5.5409e-01, 8.8430e-01],\n",
       "           [3.2207e-01, 9.2575e-01, 9.7043e-01,  ..., 6.2896e-01,\n",
       "            9.2474e-01, 5.7078e-01],\n",
       "           [3.9801e-01, 9.5794e-01, 4.9059e-01,  ..., 3.8219e-01,\n",
       "            1.3603e-01, 2.4958e-01],\n",
       "           ...,\n",
       "           [2.4321e-01, 3.3079e-01, 5.4948e-01,  ..., 2.9885e-01,\n",
       "            7.0977e-01, 9.8980e-01],\n",
       "           [5.3989e-01, 3.4923e-01, 9.1638e-01,  ..., 8.5546e-01,\n",
       "            5.0163e-01, 6.8792e-01],\n",
       "           [8.6045e-01, 3.5462e-01, 6.9937e-01,  ..., 9.2693e-02,\n",
       "            6.8745e-01, 4.7256e-02]],\n",
       "\n",
       "          [[8.5497e-01, 8.1876e-01, 4.7244e-01,  ..., 7.2753e-01,\n",
       "            1.0331e-01, 2.5022e-01],\n",
       "           [5.5412e-01, 4.6713e-03, 8.2375e-01,  ..., 5.2850e-01,\n",
       "            1.1323e-01, 9.4356e-01],\n",
       "           [9.8131e-01, 8.9046e-01, 7.2976e-01,  ..., 3.1279e-01,\n",
       "            2.1669e-01, 2.7777e-03],\n",
       "           ...,\n",
       "           [1.0579e-01, 3.0067e-01, 7.3321e-01,  ..., 9.3000e-01,\n",
       "            1.3925e-01, 3.0976e-01],\n",
       "           [6.7150e-01, 4.2703e-01, 2.4741e-01,  ..., 2.6035e-01,\n",
       "            4.3837e-01, 4.8529e-02],\n",
       "           [6.3130e-01, 1.6035e-01, 9.7863e-01,  ..., 4.8857e-01,\n",
       "            5.7066e-01, 8.7058e-01]]],\n",
       "\n",
       "\n",
       "         [[[3.4925e-01, 6.6461e-01, 9.9003e-01,  ..., 4.1204e-01,\n",
       "            8.3155e-01, 9.0234e-01],\n",
       "           [2.8710e-01, 2.4601e-01, 3.6780e-01,  ..., 2.3937e-01,\n",
       "            3.7074e-01, 2.6515e-01],\n",
       "           [3.4805e-01, 3.1048e-01, 5.9145e-01,  ..., 3.8967e-01,\n",
       "            1.1468e-01, 8.9774e-01],\n",
       "           ...,\n",
       "           [9.0944e-01, 7.5743e-01, 3.3059e-01,  ..., 2.7185e-01,\n",
       "            2.1360e-01, 1.2255e-01],\n",
       "           [3.9383e-01, 2.4095e-02, 3.6650e-01,  ..., 6.3842e-01,\n",
       "            7.9314e-01, 5.9464e-02],\n",
       "           [4.7491e-01, 8.5672e-01, 7.0368e-01,  ..., 6.2299e-01,\n",
       "            3.0567e-01, 3.2677e-01]],\n",
       "\n",
       "          [[5.8287e-01, 4.6723e-02, 4.7386e-01,  ..., 5.9471e-01,\n",
       "            9.2039e-01, 8.0916e-01],\n",
       "           [8.2180e-01, 3.7442e-01, 6.5212e-01,  ..., 3.3827e-01,\n",
       "            4.7617e-01, 6.8376e-03],\n",
       "           [3.8725e-01, 5.0980e-01, 5.6902e-01,  ..., 9.3322e-01,\n",
       "            4.7847e-01, 9.9878e-02],\n",
       "           ...,\n",
       "           [8.3260e-01, 7.9102e-01, 1.4981e-01,  ..., 2.8981e-01,\n",
       "            7.5457e-01, 3.7714e-01],\n",
       "           [4.3648e-01, 3.7769e-01, 3.0767e-01,  ..., 3.1518e-02,\n",
       "            5.4419e-01, 6.0307e-01],\n",
       "           [9.6583e-01, 6.3403e-01, 6.9000e-01,  ..., 2.9052e-01,\n",
       "            3.7048e-01, 2.2980e-01]],\n",
       "\n",
       "          [[5.8604e-01, 2.8122e-01, 4.3589e-01,  ..., 7.2963e-01,\n",
       "            8.1682e-01, 4.2074e-01],\n",
       "           [1.3965e-01, 6.8619e-01, 9.3150e-01,  ..., 8.4617e-01,\n",
       "            6.3218e-01, 1.8776e-01],\n",
       "           [3.6034e-01, 3.1267e-02, 5.0352e-01,  ..., 8.6634e-01,\n",
       "            9.2143e-01, 6.8487e-01],\n",
       "           ...,\n",
       "           [7.3014e-01, 1.9775e-02, 9.9881e-01,  ..., 7.7530e-01,\n",
       "            3.4626e-01, 5.7717e-01],\n",
       "           [4.0599e-01, 2.7466e-01, 1.2879e-01,  ..., 1.5529e-01,\n",
       "            2.3264e-01, 1.3782e-01],\n",
       "           [6.9058e-01, 8.8131e-02, 5.0349e-03,  ..., 3.6074e-01,\n",
       "            7.2160e-01, 1.5935e-01]],\n",
       "\n",
       "          ...,\n",
       "\n",
       "          [[9.8169e-01, 6.9363e-01, 1.7344e-01,  ..., 1.7429e-01,\n",
       "            6.0298e-02, 2.4962e-01],\n",
       "           [1.0370e-01, 8.3585e-01, 3.4800e-01,  ..., 1.6214e-01,\n",
       "            6.1524e-01, 5.1803e-01],\n",
       "           [1.1690e-01, 5.4929e-01, 3.9073e-01,  ..., 5.5913e-01,\n",
       "            6.1984e-01, 6.7271e-01],\n",
       "           ...,\n",
       "           [9.5872e-01, 9.9206e-01, 5.6483e-01,  ..., 8.0701e-01,\n",
       "            2.2320e-01, 3.1412e-01],\n",
       "           [7.0223e-02, 5.9964e-01, 4.9589e-01,  ..., 5.5678e-01,\n",
       "            1.2132e-01, 5.4495e-01],\n",
       "           [7.1864e-01, 3.8833e-01, 9.2265e-01,  ..., 8.7214e-01,\n",
       "            6.8961e-01, 7.7829e-01]],\n",
       "\n",
       "          [[7.3264e-01, 3.6376e-01, 6.1219e-01,  ..., 1.7434e-02,\n",
       "            4.2771e-01, 2.0948e-01],\n",
       "           [2.7522e-01, 9.2967e-01, 1.1870e-01,  ..., 3.7959e-01,\n",
       "            1.6290e-01, 3.4903e-01],\n",
       "           [5.9008e-01, 8.1243e-01, 4.1980e-01,  ..., 9.8016e-01,\n",
       "            8.3845e-01, 2.5947e-01],\n",
       "           ...,\n",
       "           [1.0123e-01, 9.5041e-02, 2.4348e-01,  ..., 9.9153e-01,\n",
       "            2.2582e-02, 5.4967e-01],\n",
       "           [6.9350e-01, 9.7163e-01, 9.9212e-01,  ..., 1.9711e-01,\n",
       "            4.9181e-01, 3.8407e-01],\n",
       "           [1.6509e-01, 3.1630e-01, 3.4572e-01,  ..., 9.7999e-02,\n",
       "            9.4161e-01, 1.9129e-02]],\n",
       "\n",
       "          [[4.7450e-01, 3.4569e-01, 9.6028e-01,  ..., 7.7002e-01,\n",
       "            7.0010e-01, 4.0634e-01],\n",
       "           [9.5615e-01, 3.2375e-01, 8.1622e-01,  ..., 2.6550e-01,\n",
       "            2.9320e-01, 9.7412e-02],\n",
       "           [6.6546e-01, 5.1939e-01, 4.6869e-01,  ..., 2.8954e-01,\n",
       "            1.2660e-01, 6.0324e-01],\n",
       "           ...,\n",
       "           [5.7971e-01, 8.9294e-01, 2.1766e-01,  ..., 1.5843e-01,\n",
       "            4.1831e-01, 8.6831e-02],\n",
       "           [5.6952e-01, 1.1918e-01, 3.3827e-01,  ..., 4.3458e-01,\n",
       "            9.9719e-01, 4.1770e-03],\n",
       "           [3.3804e-01, 5.3281e-01, 3.6054e-01,  ..., 4.2466e-01,\n",
       "            8.5279e-01, 7.5125e-01]]],\n",
       "\n",
       "\n",
       "         ...,\n",
       "\n",
       "\n",
       "         [[[6.0855e-01, 7.6625e-01, 4.8698e-01,  ..., 8.6045e-01,\n",
       "            9.1715e-02, 9.7392e-01],\n",
       "           [4.3402e-01, 3.3865e-01, 1.4759e-01,  ..., 4.8719e-01,\n",
       "            2.1467e-01, 9.2948e-01],\n",
       "           [6.1112e-02, 3.7099e-01, 7.4439e-01,  ..., 7.2852e-01,\n",
       "            2.6434e-01, 9.0622e-01],\n",
       "           ...,\n",
       "           [5.4162e-01, 3.8426e-01, 5.0138e-01,  ..., 1.2960e-01,\n",
       "            7.6861e-01, 4.3377e-01],\n",
       "           [7.0214e-01, 8.2985e-01, 9.9961e-01,  ..., 8.5276e-01,\n",
       "            9.6375e-02, 1.7199e-01],\n",
       "           [3.1332e-02, 5.4360e-01, 5.7484e-01,  ..., 7.7425e-01,\n",
       "            3.0993e-01, 1.5728e-01]],\n",
       "\n",
       "          [[3.6250e-03, 6.1437e-01, 6.0325e-01,  ..., 4.4921e-01,\n",
       "            9.9220e-02, 6.5501e-01],\n",
       "           [9.5258e-01, 1.9566e-01, 9.5241e-01,  ..., 5.6023e-01,\n",
       "            1.6567e-01, 4.6963e-01],\n",
       "           [8.3209e-01, 3.7285e-01, 4.3823e-01,  ..., 4.7243e-01,\n",
       "            1.8539e-01, 6.3336e-01],\n",
       "           ...,\n",
       "           [1.6880e-01, 8.1392e-01, 4.6277e-01,  ..., 7.9001e-01,\n",
       "            9.0866e-01, 1.4736e-01],\n",
       "           [2.5399e-01, 9.2451e-01, 9.0761e-01,  ..., 4.0060e-01,\n",
       "            6.9061e-01, 5.5642e-01],\n",
       "           [5.3670e-01, 7.4947e-01, 1.2800e-01,  ..., 3.1072e-01,\n",
       "            6.1595e-01, 5.6718e-01]],\n",
       "\n",
       "          [[5.0257e-01, 6.3355e-01, 3.2245e-01,  ..., 5.8046e-01,\n",
       "            3.3488e-01, 7.3144e-01],\n",
       "           [6.1061e-02, 8.4517e-01, 6.0137e-01,  ..., 6.3700e-01,\n",
       "            2.2368e-01, 8.7463e-01],\n",
       "           [7.5343e-01, 3.4537e-02, 2.3174e-01,  ..., 4.5407e-01,\n",
       "            3.7337e-01, 2.4845e-01],\n",
       "           ...,\n",
       "           [6.2107e-01, 7.4589e-01, 4.1391e-01,  ..., 8.8877e-01,\n",
       "            5.6585e-01, 8.8043e-01],\n",
       "           [1.0228e-01, 5.1699e-01, 5.8108e-01,  ..., 7.0025e-01,\n",
       "            9.0019e-02, 2.7767e-01],\n",
       "           [6.1480e-01, 7.2251e-01, 7.6259e-01,  ..., 8.0522e-01,\n",
       "            3.3457e-01, 3.7377e-01]],\n",
       "\n",
       "          ...,\n",
       "\n",
       "          [[2.0098e-01, 6.3185e-02, 1.4580e-01,  ..., 1.1234e-01,\n",
       "            2.4085e-01, 5.0250e-01],\n",
       "           [7.2781e-01, 4.0559e-01, 2.0305e-02,  ..., 2.7685e-02,\n",
       "            8.1032e-01, 7.9392e-01],\n",
       "           [6.4170e-01, 8.9885e-01, 9.4104e-01,  ..., 3.7506e-01,\n",
       "            1.3068e-01, 3.4059e-02],\n",
       "           ...,\n",
       "           [6.0219e-01, 8.6403e-01, 9.8037e-01,  ..., 6.2857e-01,\n",
       "            5.8283e-01, 3.3190e-01],\n",
       "           [3.3523e-01, 5.8587e-01, 4.4995e-01,  ..., 2.3609e-01,\n",
       "            4.8114e-01, 2.4813e-02],\n",
       "           [7.7043e-01, 6.0904e-01, 5.7469e-01,  ..., 1.4898e-01,\n",
       "            6.9971e-01, 4.1378e-02]],\n",
       "\n",
       "          [[5.8963e-02, 6.5295e-01, 5.5215e-01,  ..., 5.5229e-01,\n",
       "            1.2606e-01, 9.5923e-02],\n",
       "           [3.2954e-01, 3.7068e-01, 9.5078e-01,  ..., 8.7886e-01,\n",
       "            2.7515e-01, 4.4511e-01],\n",
       "           [7.2533e-01, 6.3086e-01, 6.0920e-01,  ..., 3.7778e-01,\n",
       "            2.0736e-01, 3.9047e-01],\n",
       "           ...,\n",
       "           [3.6812e-01, 6.1114e-01, 8.9132e-01,  ..., 4.6869e-01,\n",
       "            7.5399e-01, 7.0466e-02],\n",
       "           [2.1563e-01, 7.6985e-01, 3.2072e-01,  ..., 8.1515e-01,\n",
       "            2.6932e-01, 4.6464e-01],\n",
       "           [3.4741e-01, 3.3326e-01, 6.4470e-01,  ..., 3.0956e-01,\n",
       "            4.3336e-01, 3.3599e-01]],\n",
       "\n",
       "          [[9.9516e-01, 1.2639e-01, 5.8932e-01,  ..., 9.1164e-01,\n",
       "            2.5296e-01, 2.2703e-01],\n",
       "           [9.1617e-01, 5.8011e-01, 9.2524e-02,  ..., 4.4317e-01,\n",
       "            9.4776e-01, 7.4468e-01],\n",
       "           [7.1240e-01, 7.8627e-01, 9.8289e-01,  ..., 4.3655e-01,\n",
       "            1.3944e-01, 2.2301e-01],\n",
       "           ...,\n",
       "           [5.4876e-01, 7.6705e-01, 2.9848e-01,  ..., 2.7356e-01,\n",
       "            9.4318e-01, 2.9719e-01],\n",
       "           [7.8220e-01, 2.9566e-01, 4.6200e-01,  ..., 7.3023e-01,\n",
       "            8.2967e-01, 1.9254e-01],\n",
       "           [2.5490e-01, 7.1816e-01, 1.1864e-01,  ..., 3.8799e-01,\n",
       "            9.1272e-01, 6.9936e-01]]],\n",
       "\n",
       "\n",
       "         [[[8.2781e-01, 9.2746e-01, 4.4770e-01,  ..., 3.0198e-02,\n",
       "            2.3322e-01, 2.6351e-01],\n",
       "           [9.7329e-01, 4.0242e-01, 4.4399e-01,  ..., 7.0457e-01,\n",
       "            1.6958e-02, 7.5299e-01],\n",
       "           [1.6579e-02, 3.5661e-01, 3.4759e-01,  ..., 8.2549e-01,\n",
       "            4.4513e-01, 4.9915e-01],\n",
       "           ...,\n",
       "           [6.7212e-01, 4.8931e-01, 9.7138e-01,  ..., 3.3915e-01,\n",
       "            6.7862e-02, 3.7087e-01],\n",
       "           [7.2047e-01, 5.6532e-01, 3.3160e-01,  ..., 4.4740e-01,\n",
       "            9.3543e-01, 2.3699e-01],\n",
       "           [4.7218e-01, 9.7162e-01, 5.0298e-02,  ..., 6.9381e-01,\n",
       "            7.7079e-01, 7.3947e-01]],\n",
       "\n",
       "          [[3.5775e-01, 7.3503e-01, 3.7066e-02,  ..., 5.9218e-01,\n",
       "            9.8948e-01, 6.8817e-01],\n",
       "           [8.6548e-01, 3.0835e-01, 4.1127e-01,  ..., 2.5036e-01,\n",
       "            9.5481e-01, 9.1988e-01],\n",
       "           [6.2243e-01, 5.5880e-01, 7.0286e-01,  ..., 9.3382e-01,\n",
       "            5.3084e-01, 6.1098e-01],\n",
       "           ...,\n",
       "           [9.7603e-01, 6.4166e-01, 8.1140e-01,  ..., 2.4973e-01,\n",
       "            8.5474e-01, 6.0181e-01],\n",
       "           [1.1697e-01, 5.6849e-01, 2.5657e-02,  ..., 9.7160e-01,\n",
       "            5.3686e-02, 2.7970e-01],\n",
       "           [5.2590e-01, 3.1098e-02, 8.2018e-01,  ..., 6.3219e-01,\n",
       "            6.0112e-02, 5.9430e-01]],\n",
       "\n",
       "          [[9.1827e-01, 5.7860e-01, 6.2427e-01,  ..., 1.6787e-01,\n",
       "            6.0556e-01, 9.1713e-01],\n",
       "           [1.6925e-01, 5.6674e-02, 3.6837e-01,  ..., 9.6812e-02,\n",
       "            3.4237e-01, 2.5431e-02],\n",
       "           [1.0334e-01, 4.3444e-01, 1.3826e-01,  ..., 3.2142e-01,\n",
       "            8.3988e-01, 9.4104e-01],\n",
       "           ...,\n",
       "           [8.0354e-01, 9.6261e-01, 8.7927e-01,  ..., 6.6491e-01,\n",
       "            5.6904e-01, 2.2360e-01],\n",
       "           [4.6043e-01, 2.5012e-01, 2.4765e-01,  ..., 9.9924e-01,\n",
       "            3.1053e-01, 5.4675e-01],\n",
       "           [4.9770e-01, 1.6004e-01, 4.0229e-01,  ..., 8.4050e-01,\n",
       "            1.4551e-01, 7.4964e-01]],\n",
       "\n",
       "          ...,\n",
       "\n",
       "          [[6.7693e-01, 9.8851e-01, 1.4717e-01,  ..., 6.7117e-01,\n",
       "            2.9562e-01, 1.2134e-01],\n",
       "           [8.4484e-01, 2.4480e-01, 1.5846e-01,  ..., 7.0178e-01,\n",
       "            7.0396e-01, 9.4390e-02],\n",
       "           [5.1570e-01, 1.0391e-01, 9.1960e-01,  ..., 1.0048e-01,\n",
       "            7.0191e-01, 4.2800e-01],\n",
       "           ...,\n",
       "           [6.8047e-01, 2.1326e-01, 6.7355e-01,  ..., 8.2233e-01,\n",
       "            9.1461e-01, 3.2254e-01],\n",
       "           [6.4306e-01, 1.2419e-01, 4.3472e-01,  ..., 6.8144e-02,\n",
       "            5.8403e-01, 3.2390e-01],\n",
       "           [3.0025e-01, 5.0296e-01, 1.7730e-01,  ..., 6.7211e-01,\n",
       "            5.2925e-01, 1.0733e-01]],\n",
       "\n",
       "          [[2.9826e-01, 3.9696e-01, 7.4492e-01,  ..., 4.1511e-01,\n",
       "            5.4881e-01, 2.3622e-01],\n",
       "           [9.5173e-01, 8.8747e-01, 4.1233e-01,  ..., 7.3691e-01,\n",
       "            1.7669e-02, 7.0137e-01],\n",
       "           [9.9352e-01, 6.8102e-01, 6.0690e-01,  ..., 1.3465e-01,\n",
       "            5.0341e-02, 4.4502e-01],\n",
       "           ...,\n",
       "           [9.3081e-01, 4.4567e-01, 8.8900e-01,  ..., 5.2444e-01,\n",
       "            7.2585e-01, 6.0463e-01],\n",
       "           [3.2942e-02, 1.5602e-01, 9.0271e-01,  ..., 7.2923e-01,\n",
       "            4.4135e-01, 4.1468e-01],\n",
       "           [2.5165e-01, 4.7329e-02, 5.7146e-01,  ..., 8.7704e-02,\n",
       "            6.3537e-01, 9.8428e-02]],\n",
       "\n",
       "          [[4.7943e-01, 5.4542e-01, 5.4547e-01,  ..., 3.2785e-01,\n",
       "            5.2317e-01, 5.1860e-01],\n",
       "           [6.0586e-01, 1.2014e-01, 6.9220e-01,  ..., 5.2631e-01,\n",
       "            4.4629e-01, 6.9310e-01],\n",
       "           [5.4472e-01, 1.4868e-01, 7.7813e-01,  ..., 8.0487e-01,\n",
       "            2.0331e-03, 8.7666e-01],\n",
       "           ...,\n",
       "           [2.9879e-01, 3.9032e-01, 5.4441e-01,  ..., 2.6056e-01,\n",
       "            6.9271e-01, 5.2853e-01],\n",
       "           [6.6829e-01, 3.5968e-01, 2.2936e-01,  ..., 7.0812e-02,\n",
       "            3.1132e-01, 6.1046e-01],\n",
       "           [6.3282e-02, 2.6021e-01, 9.0732e-01,  ..., 6.3773e-02,\n",
       "            5.5779e-02, 6.0045e-01]]],\n",
       "\n",
       "\n",
       "         [[[2.4482e-01, 9.1696e-01, 2.6624e-02,  ..., 8.9322e-01,\n",
       "            3.3128e-01, 7.7250e-01],\n",
       "           [7.1049e-01, 5.2200e-01, 9.4130e-02,  ..., 4.9143e-01,\n",
       "            8.1793e-01, 9.1102e-01],\n",
       "           [8.5496e-01, 3.1214e-01, 9.3359e-01,  ..., 9.9390e-01,\n",
       "            6.6016e-02, 6.0269e-01],\n",
       "           ...,\n",
       "           [5.6153e-01, 2.7401e-01, 7.1816e-01,  ..., 3.5797e-01,\n",
       "            2.8467e-01, 3.0600e-01],\n",
       "           [1.3388e-01, 3.3772e-01, 7.6869e-01,  ..., 2.2790e-02,\n",
       "            7.1151e-01, 5.6457e-01],\n",
       "           [2.2539e-01, 4.4487e-01, 6.8126e-01,  ..., 6.1222e-01,\n",
       "            3.9384e-01, 3.7277e-01]],\n",
       "\n",
       "          [[5.1310e-01, 5.9819e-01, 7.2784e-01,  ..., 7.1422e-01,\n",
       "            9.2062e-02, 9.0230e-01],\n",
       "           [2.2976e-01, 3.2306e-01, 3.8197e-01,  ..., 9.5569e-01,\n",
       "            2.3278e-01, 9.5809e-01],\n",
       "           [3.1071e-01, 9.1271e-01, 5.6011e-01,  ..., 8.6071e-02,\n",
       "            3.1407e-01, 2.5367e-01],\n",
       "           ...,\n",
       "           [8.1694e-01, 5.0806e-01, 5.2634e-02,  ..., 6.5386e-01,\n",
       "            7.0837e-01, 5.8660e-01],\n",
       "           [5.7566e-01, 1.4368e-01, 7.3863e-01,  ..., 4.4420e-01,\n",
       "            4.8961e-01, 4.4145e-01],\n",
       "           [5.8064e-03, 8.4566e-01, 1.2583e-01,  ..., 5.3526e-01,\n",
       "            8.5774e-02, 3.7103e-01]],\n",
       "\n",
       "          [[6.3917e-01, 7.3198e-01, 6.1607e-01,  ..., 9.1313e-01,\n",
       "            1.3153e-01, 7.1168e-01],\n",
       "           [2.5290e-01, 2.9234e-03, 7.5506e-01,  ..., 9.6110e-01,\n",
       "            1.1995e-01, 9.3964e-01],\n",
       "           [6.8599e-01, 9.3946e-01, 5.0895e-01,  ..., 4.1400e-01,\n",
       "            9.0714e-01, 9.1989e-01],\n",
       "           ...,\n",
       "           [9.5593e-01, 5.6026e-02, 6.8522e-01,  ..., 2.2390e-01,\n",
       "            8.8470e-01, 5.0397e-01],\n",
       "           [5.8639e-01, 5.4775e-01, 9.1550e-01,  ..., 1.9308e-01,\n",
       "            3.0742e-01, 8.8581e-01],\n",
       "           [3.5192e-01, 2.8877e-01, 1.8093e-01,  ..., 1.6034e-01,\n",
       "            4.6665e-01, 5.0461e-01]],\n",
       "\n",
       "          ...,\n",
       "\n",
       "          [[6.4075e-01, 2.0194e-01, 9.5729e-01,  ..., 5.7535e-02,\n",
       "            4.7665e-01, 6.2772e-01],\n",
       "           [1.2258e-02, 8.7035e-01, 2.3659e-01,  ..., 9.7638e-01,\n",
       "            8.9859e-01, 7.9834e-01],\n",
       "           [3.9018e-01, 2.3192e-01, 7.2134e-01,  ..., 4.0246e-01,\n",
       "            8.1741e-01, 9.4462e-01],\n",
       "           ...,\n",
       "           [5.2768e-01, 6.2263e-01, 9.4621e-01,  ..., 7.6510e-02,\n",
       "            9.6614e-01, 8.0244e-01],\n",
       "           [5.3411e-01, 1.9129e-01, 2.9951e-01,  ..., 3.0465e-01,\n",
       "            1.6350e-01, 8.8526e-01],\n",
       "           [9.8916e-01, 2.7713e-01, 9.6113e-01,  ..., 9.8456e-01,\n",
       "            9.9286e-01, 3.7323e-01]],\n",
       "\n",
       "          [[9.4162e-01, 6.5126e-01, 8.2280e-01,  ..., 5.8429e-01,\n",
       "            5.8119e-01, 6.2224e-01],\n",
       "           [9.8975e-01, 1.8740e-01, 5.7333e-01,  ..., 4.6453e-01,\n",
       "            3.4354e-01, 3.1198e-01],\n",
       "           [3.0673e-01, 8.4723e-01, 2.8962e-01,  ..., 9.0074e-02,\n",
       "            7.9017e-01, 3.6859e-01],\n",
       "           ...,\n",
       "           [2.9291e-01, 8.3782e-01, 8.3668e-01,  ..., 7.8911e-01,\n",
       "            2.8115e-01, 9.1240e-01],\n",
       "           [6.3414e-01, 3.0184e-01, 9.5201e-01,  ..., 2.2041e-01,\n",
       "            5.8205e-01, 5.2621e-01],\n",
       "           [3.6212e-01, 8.8272e-01, 1.0779e-02,  ..., 9.9977e-01,\n",
       "            4.7412e-01, 9.4177e-01]],\n",
       "\n",
       "          [[4.9388e-01, 3.0989e-01, 1.3839e-01,  ..., 4.0987e-01,\n",
       "            2.7543e-01, 8.3969e-01],\n",
       "           [8.0806e-01, 8.6891e-01, 4.7176e-01,  ..., 9.4445e-01,\n",
       "            2.9528e-01, 9.8634e-01],\n",
       "           [7.5964e-01, 7.4292e-01, 1.7466e-01,  ..., 6.0754e-01,\n",
       "            7.1918e-02, 8.2571e-01],\n",
       "           ...,\n",
       "           [9.8329e-01, 7.0879e-01, 9.1558e-01,  ..., 2.9742e-01,\n",
       "            5.4626e-01, 2.9352e-01],\n",
       "           [2.4521e-02, 1.1728e-02, 5.7209e-01,  ..., 9.4734e-01,\n",
       "            6.2189e-01, 7.9384e-01],\n",
       "           [4.9219e-01, 7.5129e-02, 9.0611e-01,  ..., 3.2218e-01,\n",
       "            7.4518e-01, 5.6442e-01]]]]], device='cuda:0')"
      ]
     },
     "execution_count": 49,
     "metadata": {},
     "output_type": "execute_result"
    }
   ],
   "source": [
    "x.to(device)"
   ]
  },
  {
   "cell_type": "code",
   "execution_count": 50,
   "metadata": {},
   "outputs": [],
   "source": [
    "conv = nn.Conv3d(in_channels=C, out_channels=1, kernel_size=10)"
   ]
  },
  {
   "cell_type": "code",
   "execution_count": 51,
   "metadata": {},
   "outputs": [],
   "source": [
    "# x - torch.Size([1, 7, 500, 500, 500])\n",
    "\n",
    "# conv(x).shape # torch.Size([1, 1, 491, 491, 491])\n",
    "\n",
    "# and this takes ~2min to complete"
   ]
  },
  {
   "cell_type": "code",
   "execution_count": 52,
   "metadata": {},
   "outputs": [],
   "source": [
    "conv = nn.Conv3d(in_channels=C, out_channels=1, kernel_size=100)"
   ]
  },
  {
   "cell_type": "code",
   "execution_count": 53,
   "metadata": {},
   "outputs": [],
   "source": [
    "# x - torch.Size([1, 7, 500, 500, 500])\n",
    "\n",
    "# conv(x).shape \n",
    "\n",
    "# takes more than 8 min!!!"
   ]
  },
  {
   "cell_type": "code",
   "execution_count": 54,
   "metadata": {},
   "outputs": [],
   "source": [
    "conv = nn.Conv3d(in_channels=C, out_channels=1, kernel_size=100, stride=50)"
   ]
  },
  {
   "cell_type": "code",
   "execution_count": 55,
   "metadata": {},
   "outputs": [
    {
     "data": {
      "text/plain": [
       "torch.Size([1, 1, 9, 9, 9])"
      ]
     },
     "execution_count": 55,
     "metadata": {},
     "output_type": "execute_result"
    }
   ],
   "source": [
    "conv(x).shape # torch.Size([1, 1, 9, 9, 9])\n",
    "\n",
    "# takes 2 seconds!"
   ]
  },
  {
   "cell_type": "code",
   "execution_count": 56,
   "metadata": {},
   "outputs": [],
   "source": [
    "conv = nn.Conv3d(in_channels=C, out_channels=1, kernel_size=100, stride=10)"
   ]
  },
  {
   "cell_type": "code",
   "execution_count": 57,
   "metadata": {},
   "outputs": [
    {
     "data": {
      "text/plain": [
       "torch.Size([1, 1, 41, 41, 41])"
      ]
     },
     "execution_count": 57,
     "metadata": {},
     "output_type": "execute_result"
    }
   ],
   "source": [
    "# conv(x).shape # torch.Size([1, 1, 41, 41, 41])\n",
    "\n",
    "# and this takes ~2min to complete"
   ]
  },
  {
   "cell_type": "code",
   "execution_count": null,
   "metadata": {},
   "outputs": [],
   "source": []
  }
 ],
 "metadata": {
  "kernelspec": {
   "display_name": "SPACESHIP",
   "language": "python",
   "name": "python3"
  },
  "language_info": {
   "codemirror_mode": {
    "name": "ipython",
    "version": 3
   },
   "file_extension": ".py",
   "mimetype": "text/x-python",
   "name": "python",
   "nbconvert_exporter": "python",
   "pygments_lexer": "ipython3",
   "version": "3.11.7"
  }
 },
 "nbformat": 4,
 "nbformat_minor": 2
}
